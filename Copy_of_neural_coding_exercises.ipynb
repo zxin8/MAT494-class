{
  "nbformat": 4,
  "nbformat_minor": 0,
  "metadata": {
    "colab": {
      "name": "Copy of neural-coding-exercises.ipynb",
      "version": "0.3.2",
      "provenance": [],
      "include_colab_link": true
    },
    "kernelspec": {
      "display_name": "Python 3",
      "language": "python",
      "name": "python3"
    }
  },
  "cells": [
    {
      "cell_type": "markdown",
      "metadata": {
        "id": "view-in-github",
        "colab_type": "text"
      },
      "source": [
        "<a href=\"https://colab.research.google.com/github/zxin8/MAT494-class/blob/master/Copy_of_neural_coding_exercises.ipynb\" target=\"_parent\"><img src=\"https://colab.research.google.com/assets/colab-badge.svg\" alt=\"Open In Colab\"/></a>"
      ]
    },
    {
      "metadata": {
        "id": "jPDzt6vTDlYZ",
        "colab_type": "code",
        "outputId": "09f2c0c0-0de6-49f5-b33a-eb004aa8ff82",
        "colab": {
          "base_uri": "https://localhost:8080/",
          "height": 446
        }
      },
      "cell_type": "code",
      "source": [
        "# Upgrade seaborn for colab\n",
        "!pip install -U seaborn"
      ],
      "execution_count": 1,
      "outputs": [
        {
          "output_type": "stream",
          "text": [
            "Collecting seaborn\n",
            "\u001b[?25l  Downloading https://files.pythonhosted.org/packages/a8/76/220ba4420459d9c4c9c9587c6ce607bf56c25b3d3d2de62056efe482dadc/seaborn-0.9.0-py3-none-any.whl (208kB)\n",
            "\r\u001b[K    4% |█▋                              | 10kB 15.3MB/s eta 0:00:01\r\u001b[K    9% |███▏                            | 20kB 1.8MB/s eta 0:00:01\r\u001b[K    14% |████▊                           | 30kB 2.7MB/s eta 0:00:01\r\u001b[K    19% |██████▎                         | 40kB 1.7MB/s eta 0:00:01\r\u001b[K    24% |███████▉                        | 51kB 2.1MB/s eta 0:00:01\r\u001b[K    29% |█████████▌                      | 61kB 2.6MB/s eta 0:00:01\r\u001b[K    34% |███████████                     | 71kB 3.0MB/s eta 0:00:01\r\u001b[K    39% |████████████▋                   | 81kB 3.3MB/s eta 0:00:01\r\u001b[K    44% |██████████████▏                 | 92kB 3.7MB/s eta 0:00:01\r\u001b[K    49% |███████████████▊                | 102kB 2.9MB/s eta 0:00:01\r\u001b[K    54% |█████████████████▎              | 112kB 2.9MB/s eta 0:00:01\r\u001b[K    59% |███████████████████             | 122kB 4.1MB/s eta 0:00:01\r\u001b[K    63% |████████████████████▌           | 133kB 4.1MB/s eta 0:00:01\r\u001b[K    68% |██████████████████████          | 143kB 8.0MB/s eta 0:00:01\r\u001b[K    73% |███████████████████████▋        | 153kB 8.1MB/s eta 0:00:01\r\u001b[K    78% |█████████████████████████▏      | 163kB 8.0MB/s eta 0:00:01\r\u001b[K    83% |██████████████████████████▊     | 174kB 8.0MB/s eta 0:00:01\r\u001b[K    88% |████████████████████████████▍   | 184kB 8.0MB/s eta 0:00:01\r\u001b[K    93% |██████████████████████████████  | 194kB 8.0MB/s eta 0:00:01\r\u001b[K    98% |███████████████████████████████▌| 204kB 42.9MB/s eta 0:00:01\r\u001b[K    100% |████████████████████████████████| 215kB 27.8MB/s \n",
            "\u001b[?25hRequirement already satisfied, skipping upgrade: matplotlib>=1.4.3 in /usr/local/lib/python3.6/dist-packages (from seaborn) (3.0.2)\n",
            "Requirement already satisfied, skipping upgrade: numpy>=1.9.3 in /usr/local/lib/python3.6/dist-packages (from seaborn) (1.14.6)\n",
            "Requirement already satisfied, skipping upgrade: scipy>=0.14.0 in /usr/local/lib/python3.6/dist-packages (from seaborn) (1.1.0)\n",
            "Requirement already satisfied, skipping upgrade: pandas>=0.15.2 in /usr/local/lib/python3.6/dist-packages (from seaborn) (0.22.0)\n",
            "Requirement already satisfied, skipping upgrade: python-dateutil>=2.1 in /usr/local/lib/python3.6/dist-packages (from matplotlib>=1.4.3->seaborn) (2.5.3)\n",
            "Requirement already satisfied, skipping upgrade: kiwisolver>=1.0.1 in /usr/local/lib/python3.6/dist-packages (from matplotlib>=1.4.3->seaborn) (1.0.1)\n",
            "Requirement already satisfied, skipping upgrade: pyparsing!=2.0.4,!=2.1.2,!=2.1.6,>=2.0.1 in /usr/local/lib/python3.6/dist-packages (from matplotlib>=1.4.3->seaborn) (2.3.1)\n",
            "Requirement already satisfied, skipping upgrade: cycler>=0.10 in /usr/local/lib/python3.6/dist-packages (from matplotlib>=1.4.3->seaborn) (0.10.0)\n",
            "Requirement already satisfied, skipping upgrade: pytz>=2011k in /usr/local/lib/python3.6/dist-packages (from pandas>=0.15.2->seaborn) (2018.9)\n",
            "Requirement already satisfied, skipping upgrade: six>=1.5 in /usr/local/lib/python3.6/dist-packages (from python-dateutil>=2.1->matplotlib>=1.4.3->seaborn) (1.11.0)\n",
            "Requirement already satisfied, skipping upgrade: setuptools in /usr/local/lib/python3.6/dist-packages (from kiwisolver>=1.0.1->matplotlib>=1.4.3->seaborn) (40.8.0)\n",
            "Installing collected packages: seaborn\n",
            "  Found existing installation: seaborn 0.7.1\n",
            "    Uninstalling seaborn-0.7.1:\n",
            "      Successfully uninstalled seaborn-0.7.1\n",
            "Successfully installed seaborn-0.9.0\n"
          ],
          "name": "stdout"
        },
        {
          "output_type": "display_data",
          "data": {
            "application/vnd.colab-display-data+json": {
              "pip_warning": {
                "packages": [
                  "seaborn"
                ]
              }
            }
          },
          "metadata": {
            "tags": []
          }
        }
      ]
    },
    {
      "metadata": {
        "id": "Af7Q4CXGDlYe",
        "colab_type": "code",
        "colab": {}
      },
      "cell_type": "code",
      "source": [
        "%matplotlib inline\n",
        "import matplotlib.pyplot as plt\n",
        "import numpy as np\n",
        "import pandas as pd\n",
        "import seaborn as sns\n",
        "import h5py\n",
        "sns.set(font_scale=1.5)"
      ],
      "execution_count": 0,
      "outputs": []
    },
    {
      "metadata": {
        "id": "QrsTKmGqDlYk",
        "colab_type": "text"
      },
      "cell_type": "markdown",
      "source": [
        "## Let's load some data obtained by the Buzsaki lab at NYU.  They recorded from the hippocampus of a rat while it ran back and forth across a linear track"
      ]
    },
    {
      "metadata": {
        "id": "8pdgeDpRDlYl",
        "colab_type": "code",
        "colab": {}
      },
      "cell_type": "code",
      "source": [
        "# The first file contains the times, cell IDs, and animal location for each spike that occurred\n",
        "spikes = pd.read_csv('https://github.com/rgerkin/neuro-data-analysis-course/raw/master/data/place_cell_spike_data.csv')\n",
        "\n",
        "# The first file contains the times, cell IDs, and animal location for each spike that occurred\n",
        "locations = pd.read_csv('https://github.com/rgerkin/neuro-data-analysis-course/raw/master/data/place_cell_location_data.csv')"
      ],
      "execution_count": 0,
      "outputs": []
    },
    {
      "metadata": {
        "id": "UI8bqLd7DlYo",
        "colab_type": "text"
      },
      "cell_type": "markdown",
      "source": [
        "#### This first dataframe contains one row for each spike that was recorded.  The cell_id is arbitrary, but any two rows with the same cell id correspond to spikes reocrded from the same cell.  The index is time (starting several hours into the experiment), and the other columns are the linear location on the track (\"d\", measured from the track's left edge) and also the actual 2d coordinates (\"x\" and \"y\", which we will ignore). I've restricted the data to 0.2m < d < 1.4m, which is where the rat actually runs on the track (instead of sitting at the ends doing nothing).  "
      ]
    },
    {
      "metadata": {
        "id": "JipcEozJDlYp",
        "colab_type": "code",
        "outputId": "954bc2d8-c943-4bfa-aa32-44d89a8f7274",
        "colab": {
          "base_uri": "https://localhost:8080/",
          "height": 235
        }
      },
      "cell_type": "code",
      "source": [
        "spikes = spikes.set_index('t')\n",
        "spikes.head()"
      ],
      "execution_count": 4,
      "outputs": [
        {
          "output_type": "execute_result",
          "data": {
            "text/html": [
              "<div>\n",
              "<style scoped>\n",
              "    .dataframe tbody tr th:only-of-type {\n",
              "        vertical-align: middle;\n",
              "    }\n",
              "\n",
              "    .dataframe tbody tr th {\n",
              "        vertical-align: top;\n",
              "    }\n",
              "\n",
              "    .dataframe thead th {\n",
              "        text-align: right;\n",
              "    }\n",
              "</style>\n",
              "<table border=\"1\" class=\"dataframe\">\n",
              "  <thead>\n",
              "    <tr style=\"text-align: right;\">\n",
              "      <th></th>\n",
              "      <th>cell_ids</th>\n",
              "      <th>d</th>\n",
              "      <th>x</th>\n",
              "      <th>y</th>\n",
              "    </tr>\n",
              "    <tr>\n",
              "      <th>t</th>\n",
              "      <th></th>\n",
              "      <th></th>\n",
              "      <th></th>\n",
              "      <th></th>\n",
              "    </tr>\n",
              "  </thead>\n",
              "  <tbody>\n",
              "    <tr>\n",
              "      <th>18194.76930</th>\n",
              "      <td>609</td>\n",
              "      <td>0.200284</td>\n",
              "      <td>-0.061786</td>\n",
              "      <td>-0.189188</td>\n",
              "    </tr>\n",
              "    <tr>\n",
              "      <th>18194.77235</th>\n",
              "      <td>529</td>\n",
              "      <td>0.201205</td>\n",
              "      <td>-0.060900</td>\n",
              "      <td>-0.189143</td>\n",
              "    </tr>\n",
              "    <tr>\n",
              "      <th>18194.77305</th>\n",
              "      <td>1209</td>\n",
              "      <td>0.202125</td>\n",
              "      <td>-0.060015</td>\n",
              "      <td>-0.189098</td>\n",
              "    </tr>\n",
              "    <tr>\n",
              "      <th>18194.77855</th>\n",
              "      <td>416</td>\n",
              "      <td>0.203724</td>\n",
              "      <td>-0.058476</td>\n",
              "      <td>-0.189284</td>\n",
              "    </tr>\n",
              "    <tr>\n",
              "      <th>18194.77955</th>\n",
              "      <td>828</td>\n",
              "      <td>0.204402</td>\n",
              "      <td>-0.057822</td>\n",
              "      <td>-0.189515</td>\n",
              "    </tr>\n",
              "  </tbody>\n",
              "</table>\n",
              "</div>"
            ],
            "text/plain": [
              "             cell_ids         d         x         y\n",
              "t                                                  \n",
              "18194.76930       609  0.200284 -0.061786 -0.189188\n",
              "18194.77235       529  0.201205 -0.060900 -0.189143\n",
              "18194.77305      1209  0.202125 -0.060015 -0.189098\n",
              "18194.77855       416  0.203724 -0.058476 -0.189284\n",
              "18194.77955       828  0.204402 -0.057822 -0.189515"
            ]
          },
          "metadata": {
            "tags": []
          },
          "execution_count": 4
        }
      ]
    },
    {
      "metadata": {
        "id": "x8Ly52lxDlYr",
        "colab_type": "text"
      },
      "cell_type": "markdown",
      "source": [
        "#### The second dataframe contains one row for each ~25 ms of elapsed time.  They were recording the movement of the rat with a video camera, so each row is derived from one frame of that movie.  "
      ]
    },
    {
      "metadata": {
        "id": "MvEShUO6DlYs",
        "colab_type": "code",
        "outputId": "3c5c9396-c73b-4b1f-d2ae-371b3840a3c9",
        "colab": {
          "base_uri": "https://localhost:8080/",
          "height": 235
        }
      },
      "cell_type": "code",
      "source": [
        "locations = locations.set_index('t')\n",
        "locations.head()"
      ],
      "execution_count": 5,
      "outputs": [
        {
          "output_type": "execute_result",
          "data": {
            "text/html": [
              "<div>\n",
              "<style scoped>\n",
              "    .dataframe tbody tr th:only-of-type {\n",
              "        vertical-align: middle;\n",
              "    }\n",
              "\n",
              "    .dataframe tbody tr th {\n",
              "        vertical-align: top;\n",
              "    }\n",
              "\n",
              "    .dataframe thead th {\n",
              "        text-align: right;\n",
              "    }\n",
              "</style>\n",
              "<table border=\"1\" class=\"dataframe\">\n",
              "  <thead>\n",
              "    <tr style=\"text-align: right;\">\n",
              "      <th></th>\n",
              "      <th>d</th>\n",
              "      <th>x</th>\n",
              "      <th>y</th>\n",
              "    </tr>\n",
              "    <tr>\n",
              "      <th>t</th>\n",
              "      <th></th>\n",
              "      <th></th>\n",
              "      <th></th>\n",
              "    </tr>\n",
              "  </thead>\n",
              "  <tbody>\n",
              "    <tr>\n",
              "      <th>18194.776399</th>\n",
              "      <td>0.203045</td>\n",
              "      <td>-0.059129</td>\n",
              "      <td>-0.189053</td>\n",
              "    </tr>\n",
              "    <tr>\n",
              "      <th>18194.801998</th>\n",
              "      <td>0.213904</td>\n",
              "      <td>-0.048677</td>\n",
              "      <td>-0.192750</td>\n",
              "    </tr>\n",
              "    <tr>\n",
              "      <th>18194.827598</th>\n",
              "      <td>0.219871</td>\n",
              "      <td>-0.042934</td>\n",
              "      <td>-0.198324</td>\n",
              "    </tr>\n",
              "    <tr>\n",
              "      <th>18194.853198</th>\n",
              "      <td>0.225473</td>\n",
              "      <td>-0.037541</td>\n",
              "      <td>-0.203761</td>\n",
              "    </tr>\n",
              "    <tr>\n",
              "      <th>18194.878798</th>\n",
              "      <td>0.236299</td>\n",
              "      <td>-0.027121</td>\n",
              "      <td>-0.207461</td>\n",
              "    </tr>\n",
              "  </tbody>\n",
              "</table>\n",
              "</div>"
            ],
            "text/plain": [
              "                     d         x         y\n",
              "t                                         \n",
              "18194.776399  0.203045 -0.059129 -0.189053\n",
              "18194.801998  0.213904 -0.048677 -0.192750\n",
              "18194.827598  0.219871 -0.042934 -0.198324\n",
              "18194.853198  0.225473 -0.037541 -0.203761\n",
              "18194.878798  0.236299 -0.027121 -0.207461"
            ]
          },
          "metadata": {
            "tags": []
          },
          "execution_count": 5
        }
      ]
    },
    {
      "metadata": {
        "id": "mZ-UDg2TDlYu",
        "colab_type": "text"
      },
      "cell_type": "markdown",
      "source": [
        "## (1)"
      ]
    },
    {
      "metadata": {
        "id": "umpovCOgDlYv",
        "colab_type": "text"
      },
      "cell_type": "markdown",
      "source": [
        "### (a)\n",
        "#### Let's take a brief look at this data.  A good strategy is to figure out the range of your data (highs, lows, typical values) by making a histogram.  Access the \"d\" column of the locations dataframe, and then make a histogram with the `.hist()` method.  \n",
        "\n",
        "#### You can use the default number of histogram bins, or change it with the \"bins\" argument (e.g. `.hist(bins=100)`).  You should see that the rat was on most of the track, slightly preferring the left-side (near d=0) to the right side.  "
      ]
    },
    {
      "metadata": {
        "id": "xKCdSR3aDlYx",
        "colab_type": "code",
        "outputId": "49637033-eeb2-43d0-8704-10c5a21cf866",
        "colab": {
          "base_uri": "https://localhost:8080/",
          "height": 370
        }
      },
      "cell_type": "code",
      "source": [
        "\n",
        "locations['d'].hist()\n",
        "plt.xlabel('Location along track (m)')\n",
        "plt.ylabel('# of samples that animal\\nwas present there');"
      ],
      "execution_count": 6,
      "outputs": [
        {
          "output_type": "display_data",
          "data": {
            "image/png": "[encoded data removed]",
            "text/plain": [
              "<Figure size 576x396 with 1 Axes>"
            ]
          },
          "metadata": {
            "tags": []
          }
        }
      ]
    },
    {
      "metadata": {
        "id": "lWGKS3krDlY1",
        "colab_type": "text"
      },
      "cell_type": "markdown",
      "source": [
        "### (b)\n",
        "#### Do the same thing with the `spikes` dataframe to see at what locations on the track the spikes occurred.  "
      ]
    },
    {
      "metadata": {
        "id": "iWepOTTODlY2",
        "colab_type": "code",
        "outputId": "71882f82-c315-4d8a-e096-d1335c9157bb",
        "colab": {
          "base_uri": "https://localhost:8080/",
          "height": 370
        }
      },
      "cell_type": "code",
      "source": [
        "spikes['d'].hist()\n",
        "plt.xlabel('Location along track (m)')\n",
        "plt.ylabel('# of spikes observed there');"
      ],
      "execution_count": 7,
      "outputs": [
        {
          "output_type": "display_data",
          "data": {
            "image/png": "[encoded data removed]",
            "text/plain": [
              "<Figure size 576x396 with 1 Axes>"
            ]
          },
          "metadata": {
            "tags": []
          }
        }
      ]
    },
    {
      "metadata": {
        "id": "ufJB8hoqDlY6",
        "colab_type": "text"
      },
      "cell_type": "markdown",
      "source": [
        "### (c)\n",
        "#### That shows us the histogram, but we are actually going to want to use the values plotted there for our analysis.  Use the function `np.histogram` to extract the counts in each bin (the number of video frames that the rat was at that approximate location), and the locations of the edges of each bin, using 64 bins.  "
      ]
    },
    {
      "metadata": {
        "id": "tlVVRyjZDlY7",
        "colab_type": "code",
        "colab": {}
      },
      "cell_type": "code",
      "source": [
        "\n",
        "frames_at_each_location, bin_edges = np.histogram(locations['d'],bins=64)"
      ],
      "execution_count": 0,
      "outputs": []
    },
    {
      "metadata": {
        "id": "4eC4gsKhDlY_",
        "colab_type": "text"
      },
      "cell_type": "markdown",
      "source": [
        "#### If you check, you will see that there are 101 bin edges, not 100.  That is because each bin edge is both the left edge of one bin and the right edge of another.  Let's find the center of each bin, which is a better description of data in the bin.  "
      ]
    },
    {
      "metadata": {
        "id": "qX6FaKfgDlZB",
        "colab_type": "code",
        "colab": {}
      },
      "cell_type": "code",
      "source": [
        "# This statement takes the average of the left-bin edges and the right-bin edges.  \n",
        "bin_centers = (bin_edges[1:] + bin_edges[:-1]) / 2\n",
        "bin_centers = bin_centers.round(3)"
      ],
      "execution_count": 0,
      "outputs": []
    },
    {
      "metadata": {
        "id": "v4bT4LPxDlZF",
        "colab_type": "text"
      },
      "cell_type": "markdown",
      "source": [
        "### (d) \n",
        "#### Notice that the histogram above is noisy.  Noisy data can cause problems with analysis, especially if we do lots of mathematical operations it.  It is sometimes better to work with smoothed data.  Below I show an example of something called gaussian smoothing, One trace below is original (fake) data, and the other is smoothed data. Change the smoothing_width to 3 to get some reasonably good smoothing.  "
      ]
    },
    {
      "metadata": {
        "id": "RtwqlVomDlZF",
        "colab_type": "code",
        "outputId": "8fffe2f2-577c-4d87-c347-29cc70e4fadc",
        "colab": {
          "base_uri": "https://localhost:8080/",
          "height": 372
        }
      },
      "cell_type": "code",
      "source": [
        "from scipy.ndimage.filters import gaussian_filter\n",
        "noisy = np.linspace(0,3,100) + np.random.rand(100)\n",
        "smoothing_width = 3\n",
        "smooth = gaussian_filter(noisy, smoothing_width)\n",
        "plt.plot(noisy) # The blue trace\n",
        "plt.plot(smooth); # The orange trace"
      ],
      "execution_count": 10,
      "outputs": [
        {
          "output_type": "display_data",
          "data": {
            "image/png": "[encoded data removed]",
            "text/plain": [
              "<Figure size 576x396 with 1 Axes>"
            ]
          },
          "metadata": {
            "tags": []
          }
        }
      ]
    },
    {
      "metadata": {
        "id": "a4tEHnMODlZJ",
        "colab_type": "text"
      },
      "cell_type": "markdown",
      "source": [
        "### (e) \n",
        "#### Now let's smooth the location data.  First we need to figure out how long one video frame is.  They are all the same length, so we just need to subtract any two adjacent times in the index of the `locations` dataframe.  Then we need to multiply the number of frames at a given location by the duration of those frames to get the duration that the rat spent at each location.  Finally, we need to smooth those durations (using a smoothing width of 3).  "
      ]
    },
    {
      "metadata": {
        "id": "ztkxsBNLDlZK",
        "colab_type": "code",
        "outputId": "ccce7ac9-36ec-4a9e-ae6d-ece808aadc63",
        "colab": {
          "base_uri": "https://localhost:8080/",
          "height": 390
        }
      },
      "cell_type": "code",
      "source": [
        "frame_duration = locations.index[2] - locations.index[1]\n",
        "durations_at_each_location = frames_at_each_location * frame_duration\n",
        "durations_at_each_location = gaussian_filter(durations_at_each_location, 3)\n",
        "plt.plot(durations_at_each_location)\n",
        "plt.xlabel('Location on track (m)')\n",
        "plt.ylabel('Duration spent at this location');"
      ],
      "execution_count": 11,
      "outputs": [
        {
          "output_type": "display_data",
          "data": {
            "image/png": "[encoded data removed]",
            "text/plain": [
              "<Figure size 576x396 with 1 Axes>"
            ]
          },
          "metadata": {
            "tags": []
          }
        }
      ]
    },
    {
      "metadata": {
        "id": "XNcvGP2jDlZN",
        "colab_type": "text"
      },
      "cell_type": "markdown",
      "source": [
        "## (2)"
      ]
    },
    {
      "metadata": {
        "id": "ZRpD3WieDlZO",
        "colab_type": "text"
      },
      "cell_type": "markdown",
      "source": [
        "### (a)\n",
        "#### Now that we know about how long the rat spent at each location, and from the `spikes` dataframe we know how many spikes occurred in each cell at each location, we can compute the firing rate (spikes per second) of each cell at each location.  First, I need to make an empty data frame to hold this data.  I will want to store the firing rate over the length of the track in each row of the data frame, so each row needs a cell ID associated with it.  Extract all the unique cell_ids in this dataset by applying the `.unique()` method to the `cell_ids` column of the `spikes` dataframe.  "
      ]
    },
    {
      "metadata": {
        "id": "RC0Sx7e4DlZP",
        "colab_type": "code",
        "colab": {}
      },
      "cell_type": "code",
      "source": [
        "cell_ids = spikes['cell_ids'].unique()\n",
        "spike_rates = pd.DataFrame(index=cell_ids, columns=bin_centers)\n",
        "spike_rates.index.name = 'Cell ID'\n",
        "spike_rates.columns.name = 'Location on Track (m)'"
      ],
      "execution_count": 0,
      "outputs": []
    },
    {
      "metadata": {
        "id": "RQGjaENNDlZS",
        "colab_type": "text"
      },
      "cell_type": "markdown",
      "source": [
        "### (b)\n",
        "#### Now the fun part. I prepared a `for` loop, which will go through each of the cells (by id number) and then fill in the `spike_rates` data frame in the appropriate row.  The first line in that for loop requires you to get the subset of the `spikes` data that corresponds to only the current `cell_id`, using a selector.  In the second line you compute the histogram, so you get spike counts as a function of track location for one cell at a time.  In the third line you apply smoothing to stabilize the data.  In the fourth line you turn counts and durations into rates.  Finally, in the fifth line you fill the empty dataframe that we created above with the rate data that you computed for that cell.  "
      ]
    },
    {
      "metadata": {
        "id": "7pI0ZkM-DlZT",
        "colab_type": "code",
        "colab": {}
      },
      "cell_type": "code",
      "source": [
        "for cell_id in cell_ids:\n",
        "    # 1\n",
        "    is_it_this_cell_id = (spikes['cell_ids'] == cell_id)\n",
        "    cell_spikes = spikes[is_it_this_cell_id]\n",
        "    # 2\n",
        "    spike_counts_at_each_location, bin_edges = np.histogram(cell_spikes['d'],bins=64)\n",
        "    spike_counts_at_each_location = spike_counts_at_each_location.astype('float') # Make these values decimals for safety\n",
        "    # 3\n",
        "    spike_counts_at_each_location =gaussian_filter(spike_counts_at_each_location,3)\n",
        "    # 4\n",
        "    spike_rates_at_each_location = spike_counts_at_each_location / durations_at_each_location\n",
        "    # 5\n",
        "    spike_rates.loc[cell_id, :] = spike_rates_at_each_location"
      ],
      "execution_count": 0,
      "outputs": []
    },
    {
      "metadata": {
        "id": "820mfLTHDlZY",
        "colab_type": "text"
      },
      "cell_type": "markdown",
      "source": [
        "#### Sometimes we end up with missing values, and we need to fill in real numbers so that our other algorithm don't get confused.  You can replace missing values with `fillna(x)`, where x is the value to use to replace missing values with.  Replace the missing values in `spike_rates` with 0's.  "
      ]
    },
    {
      "metadata": {
        "id": "1fsJcrZYDlZa",
        "colab_type": "code",
        "colab": {}
      },
      "cell_type": "code",
      "source": [
        "spike_rates = spike_rates.fillna(0)"
      ],
      "execution_count": 0,
      "outputs": []
    },
    {
      "metadata": {
        "id": "2HQqOXlVDlZh",
        "colab_type": "text"
      },
      "cell_type": "markdown",
      "source": [
        "#### Let's visualize these spike rates using a heatmap.  "
      ]
    },
    {
      "metadata": {
        "id": "hy640mlmDlZk",
        "colab_type": "code",
        "outputId": "21eb5529-44f0-49c5-805c-1232a36a5f43",
        "colab": {
          "base_uri": "https://localhost:8080/",
          "height": 418
        }
      },
      "cell_type": "code",
      "source": [
        "hm = sns.heatmap(spike_rates, cbar_kws={'label':'Spike Rate (Hz)'});"
      ],
      "execution_count": 15,
      "outputs": [
        {
          "output_type": "display_data",
          "data": {
            "image/png": "[encoded data removed]",
            "text/plain": [
              "<Figure size 576x396 with 2 Axes>"
            ]
          },
          "metadata": {
            "tags": []
          }
        }
      ]
    },
    {
      "metadata": {
        "id": "GwpRx7XrDlZn",
        "colab_type": "text"
      },
      "cell_type": "markdown",
      "source": [
        "#### Note that there are actually many more cells shown here than just the dozen or so cell labels.  It is conveniently only drawing a few of the cell ID labels to declutter the screen, but you an make it draw more if you want (ask me about it).  \n",
        "\n",
        "#### Still, this isn't very interesting yet.  The cells that fire at high rates are drowning out the signal from the ones that fire at low rates, in our figure.  And it isn't clear how to order the cells, since the cell ID is arbitrary.  We can solve a bunch of problems at once with a cool visualization called a cluster map. "
      ]
    },
    {
      "metadata": {
        "id": "Z76Rhlo_DlZp",
        "colab_type": "text"
      },
      "cell_type": "markdown",
      "source": [
        "### (c)\n",
        "#### First, we can normalize all the cells by computing a new \"normalized\" spike rate that has the same mean value across the track for every cell.  We do this by dividing through by the mean of each row, which is trickier than it sounds.  In the first line, compute the mean spike rate for each cell (each row) using the `.mean()` method on the `spike_rates` dataframe, choosing axis number 1 to compute the mean over.  (0 and 1 are the rows and columns).  "
      ]
    },
    {
      "metadata": {
        "id": "iGvD4WT6DlZp",
        "colab_type": "code",
        "colab": {}
      },
      "cell_type": "code",
      "source": [
        "spike_rates_mean = spike_rates.mean(axis=1)"
      ],
      "execution_count": 0,
      "outputs": []
    },
    {
      "metadata": {
        "id": "qOC4ThTHDlZt",
        "colab_type": "text"
      },
      "cell_type": "markdown",
      "source": [
        "### (d)\n",
        "#### Next, we divide our original `spike_rates` by these mean spike rates. Now you need to switch the axis, because whereas we computed the mean in one direction of the dataframe, we are dividing in the other!"
      ]
    },
    {
      "metadata": {
        "id": "CetI34fVDlZw",
        "colab_type": "code",
        "colab": {}
      },
      "cell_type": "code",
      "source": [
        "spike_rates_normalized = spike_rates.div(spike_rates_mean, axis=0)"
      ],
      "execution_count": 0,
      "outputs": []
    },
    {
      "metadata": {
        "id": "hM9MdZ7ODlZ1",
        "colab_type": "text"
      },
      "cell_type": "markdown",
      "source": [
        "### (e)\n",
        "#### Now if we make the heatmap with this normalized data, we should see some patches where specific cells preferentially respond -- their receptive fields!  "
      ]
    },
    {
      "metadata": {
        "id": "0pEdNA32DlZ2",
        "colab_type": "code",
        "outputId": "e6d215a1-d938-46cd-d6dc-3ab6ad62bced",
        "colab": {
          "base_uri": "https://localhost:8080/",
          "height": 398
        }
      },
      "cell_type": "code",
      "source": [
        "cm = sns.heatmap(spike_rates_normalized, cbar_kws={'label':'Fold-change in spike rate'})"
      ],
      "execution_count": 18,
      "outputs": [
        {
          "output_type": "display_data",
          "data": {
            "image/png": "[encoded data removed]",
            "text/plain": [
              "<Figure size 576x396 with 2 Axes>"
            ]
          },
          "metadata": {
            "tags": []
          }
        }
      ]
    },
    {
      "metadata": {
        "id": "10RYSrkFDlZ9",
        "colab_type": "text"
      },
      "cell_type": "markdown",
      "source": [
        "#### We still don't know how the cells relate to one another (are their clusters of cells that do the same thing?) The function `sns.clustermap` takes care of this for us by hierarchically sorting the data, and does some other nice things.  For example, it can compute Z-scores, so that instead of just seeing fold-changes relative to the mean, we can see how significant the changes are in a statistical sense.  "
      ]
    },
    {
      "metadata": {
        "id": "Sm-nSdfaDlZ9",
        "colab_type": "code",
        "outputId": "77f9f673-b48b-44d5-847b-f8a5bd2d4e96",
        "colab": {
          "base_uri": "https://localhost:8080/",
          "height": 1187
        }
      },
      "cell_type": "code",
      "source": [
        "cm = sns.clustermap(spike_rates,\n",
        "                  col_cluster=False, # This line is to prevent the times from being clustered\n",
        "                    z_score=0, # This computes Z-scores with respect to time (mean and stdev across time)\n",
        "                    cbar_kws={'label':'Z-score'})"
      ],
      "execution_count": 19,
      "outputs": [
        {
          "output_type": "error",
          "ename": "AttributeError",
          "evalue": "ignored",
          "traceback": [
            "\u001b[0;31m---------------------------------------------------------------------------\u001b[0m",
            "\u001b[0;31mAttributeError\u001b[0m                            Traceback (most recent call last)",
            "\u001b[0;32m<ipython-input-19-d305bd2c1cd0>\u001b[0m in \u001b[0;36m<module>\u001b[0;34m()\u001b[0m\n\u001b[1;32m      2\u001b[0m                   \u001b[0mcol_cluster\u001b[0m\u001b[0;34m=\u001b[0m\u001b[0;32mFalse\u001b[0m\u001b[0;34m,\u001b[0m \u001b[0;31m# This line is to prevent the times from being clustered\u001b[0m\u001b[0;34m\u001b[0m\u001b[0;34m\u001b[0m\u001b[0m\n\u001b[1;32m      3\u001b[0m                     \u001b[0mz_score\u001b[0m\u001b[0;34m=\u001b[0m\u001b[0;36m0\u001b[0m\u001b[0;34m,\u001b[0m \u001b[0;31m# This computes Z-scores with respect to time (mean and stdev across time)\u001b[0m\u001b[0;34m\u001b[0m\u001b[0;34m\u001b[0m\u001b[0m\n\u001b[0;32m----> 4\u001b[0;31m                     cbar_kws={'label':'Z-score'})\n\u001b[0m",
            "\u001b[0;32m/usr/local/lib/python3.6/dist-packages/seaborn/matrix.py\u001b[0m in \u001b[0;36mclustermap\u001b[0;34m(data, pivot_kws, method, metric, z_score, standard_scale, figsize, cbar_kws, row_cluster, col_cluster, row_linkage, col_linkage, row_colors, col_colors, mask, **kwargs)\u001b[0m\n\u001b[1;32m   1244\u001b[0m         \u001b[0;34m>>\u001b[0m\u001b[0;34m>\u001b[0m \u001b[0mg\u001b[0m \u001b[0;34m=\u001b[0m \u001b[0msns\u001b[0m\u001b[0;34m.\u001b[0m\u001b[0mclustermap\u001b[0m\u001b[0;34m(\u001b[0m\u001b[0miris\u001b[0m\u001b[0;34m,\u001b[0m \u001b[0mmethod\u001b[0m\u001b[0;34m=\u001b[0m\u001b[0;34m\"single\"\u001b[0m\u001b[0;34m)\u001b[0m\u001b[0;34m\u001b[0m\u001b[0;34m\u001b[0m\u001b[0m\n\u001b[1;32m   1245\u001b[0m \u001b[0;34m\u001b[0m\u001b[0m\n\u001b[0;32m-> 1246\u001b[0;31m     \u001b[0mUse\u001b[0m \u001b[0ma\u001b[0m \u001b[0mdifferent\u001b[0m \u001b[0mcolormap\u001b[0m \u001b[0;32mand\u001b[0m \u001b[0mignore\u001b[0m \u001b[0moutliers\u001b[0m \u001b[0;32min\u001b[0m \u001b[0mcolormap\u001b[0m \u001b[0mlimits\u001b[0m\u001b[0;34m:\u001b[0m\u001b[0;34m\u001b[0m\u001b[0;34m\u001b[0m\u001b[0m\n\u001b[0m\u001b[1;32m   1247\u001b[0m \u001b[0;34m\u001b[0m\u001b[0m\n\u001b[1;32m   1248\u001b[0m     \u001b[0;34m.\u001b[0m\u001b[0;34m.\u001b[0m \u001b[0mplot\u001b[0m\u001b[0;34m:\u001b[0m\u001b[0;34m:\u001b[0m\u001b[0;34m\u001b[0m\u001b[0;34m\u001b[0m\u001b[0m\n",
            "\u001b[0;32m/usr/local/lib/python3.6/dist-packages/seaborn/matrix.py\u001b[0m in \u001b[0;36m__init__\u001b[0;34m(self, data, pivot_kws, z_score, standard_scale, figsize, row_colors, col_colors, mask)\u001b[0m\n\u001b[1;32m    761\u001b[0m             \u001b[0mself\u001b[0m\u001b[0;34m.\u001b[0m\u001b[0mdata\u001b[0m \u001b[0;34m=\u001b[0m \u001b[0mpd\u001b[0m\u001b[0;34m.\u001b[0m\u001b[0mDataFrame\u001b[0m\u001b[0;34m(\u001b[0m\u001b[0mdata\u001b[0m\u001b[0;34m)\u001b[0m\u001b[0;34m\u001b[0m\u001b[0;34m\u001b[0m\u001b[0m\n\u001b[1;32m    762\u001b[0m \u001b[0;34m\u001b[0m\u001b[0m\n\u001b[0;32m--> 763\u001b[0;31m         self.data2d = self.format_data(self.data, pivot_kws, z_score,\n\u001b[0m\u001b[1;32m    764\u001b[0m                                        standard_scale)\n\u001b[1;32m    765\u001b[0m \u001b[0;34m\u001b[0m\u001b[0m\n",
            "\u001b[0;32m/usr/local/lib/python3.6/dist-packages/matplotlib/figure.py\u001b[0m in \u001b[0;36madd_subplot\u001b[0;34m(self, *args, **kwargs)\u001b[0m\n\u001b[1;32m   1365\u001b[0m                     \u001b[0mself\u001b[0m\u001b[0;34m.\u001b[0m\u001b[0m_axstack\u001b[0m\u001b[0;34m.\u001b[0m\u001b[0mremove\u001b[0m\u001b[0;34m(\u001b[0m\u001b[0max\u001b[0m\u001b[0;34m)\u001b[0m\u001b[0;34m\u001b[0m\u001b[0;34m\u001b[0m\u001b[0m\n\u001b[1;32m   1366\u001b[0m \u001b[0;34m\u001b[0m\u001b[0m\n\u001b[0;32m-> 1367\u001b[0;31m             \u001b[0ma\u001b[0m \u001b[0;34m=\u001b[0m \u001b[0msubplot_class_factory\u001b[0m\u001b[0;34m(\u001b[0m\u001b[0mprojection_class\u001b[0m\u001b[0;34m)\u001b[0m\u001b[0;34m(\u001b[0m\u001b[0mself\u001b[0m\u001b[0;34m,\u001b[0m \u001b[0;34m*\u001b[0m\u001b[0margs\u001b[0m\u001b[0;34m,\u001b[0m \u001b[0;34m**\u001b[0m\u001b[0mkwargs\u001b[0m\u001b[0;34m)\u001b[0m\u001b[0;34m\u001b[0m\u001b[0;34m\u001b[0m\u001b[0m\n\u001b[0m\u001b[1;32m   1368\u001b[0m         \u001b[0mself\u001b[0m\u001b[0;34m.\u001b[0m\u001b[0m_axstack\u001b[0m\u001b[0;34m.\u001b[0m\u001b[0madd\u001b[0m\u001b[0;34m(\u001b[0m\u001b[0mkey\u001b[0m\u001b[0;34m,\u001b[0m \u001b[0ma\u001b[0m\u001b[0;34m)\u001b[0m\u001b[0;34m\u001b[0m\u001b[0;34m\u001b[0m\u001b[0m\n\u001b[1;32m   1369\u001b[0m         \u001b[0mself\u001b[0m\u001b[0;34m.\u001b[0m\u001b[0msca\u001b[0m\u001b[0;34m(\u001b[0m\u001b[0ma\u001b[0m\u001b[0;34m)\u001b[0m\u001b[0;34m\u001b[0m\u001b[0;34m\u001b[0m\u001b[0m\n",
            "\u001b[0;32m/usr/local/lib/python3.6/dist-packages/matplotlib/axes/_subplots.py\u001b[0m in \u001b[0;36m__init__\u001b[0;34m(self, fig, *args, **kwargs)\u001b[0m\n\u001b[1;32m     68\u001b[0m \u001b[0;34m\u001b[0m\u001b[0m\n\u001b[1;32m     69\u001b[0m         \u001b[0;31m# _axes_class is set in the subplot_class_factory\u001b[0m\u001b[0;34m\u001b[0m\u001b[0;34m\u001b[0m\u001b[0;34m\u001b[0m\u001b[0m\n\u001b[0;32m---> 70\u001b[0;31m         \u001b[0mself\u001b[0m\u001b[0;34m.\u001b[0m\u001b[0m_axes_class\u001b[0m\u001b[0;34m.\u001b[0m\u001b[0m__init__\u001b[0m\u001b[0;34m(\u001b[0m\u001b[0mself\u001b[0m\u001b[0;34m,\u001b[0m \u001b[0mfig\u001b[0m\u001b[0;34m,\u001b[0m \u001b[0mself\u001b[0m\u001b[0;34m.\u001b[0m\u001b[0mfigbox\u001b[0m\u001b[0;34m,\u001b[0m \u001b[0;34m**\u001b[0m\u001b[0mkwargs\u001b[0m\u001b[0;34m)\u001b[0m\u001b[0;34m\u001b[0m\u001b[0;34m\u001b[0m\u001b[0m\n\u001b[0m\u001b[1;32m     71\u001b[0m         \u001b[0;31m# add a layout box to this, for both the full axis, and the poss\u001b[0m\u001b[0;34m\u001b[0m\u001b[0;34m\u001b[0m\u001b[0;34m\u001b[0m\u001b[0m\n\u001b[1;32m     72\u001b[0m         \u001b[0;31m# of the axis.  We need both because the axes may become smaller\u001b[0m\u001b[0;34m\u001b[0m\u001b[0;34m\u001b[0m\u001b[0;34m\u001b[0m\u001b[0m\n",
            "\u001b[0;32m/usr/local/lib/python3.6/dist-packages/matplotlib/axes/_base.py\u001b[0m in \u001b[0;36m__init__\u001b[0;34m(self, fig, rect, facecolor, frameon, sharex, sharey, label, xscale, yscale, **kwargs)\u001b[0m\n\u001b[1;32m    504\u001b[0m             \u001b[0mself\u001b[0m\u001b[0;34m.\u001b[0m\u001b[0mset_yscale\u001b[0m\u001b[0;34m(\u001b[0m\u001b[0myscale\u001b[0m\u001b[0;34m)\u001b[0m\u001b[0;34m\u001b[0m\u001b[0;34m\u001b[0m\u001b[0m\n\u001b[1;32m    505\u001b[0m \u001b[0;34m\u001b[0m\u001b[0m\n\u001b[0;32m--> 506\u001b[0;31m         \u001b[0mself\u001b[0m\u001b[0;34m.\u001b[0m\u001b[0mupdate\u001b[0m\u001b[0;34m(\u001b[0m\u001b[0mkwargs\u001b[0m\u001b[0;34m)\u001b[0m\u001b[0;34m\u001b[0m\u001b[0;34m\u001b[0m\u001b[0m\n\u001b[0m\u001b[1;32m    507\u001b[0m \u001b[0;34m\u001b[0m\u001b[0m\n\u001b[1;32m    508\u001b[0m         \u001b[0;32mif\u001b[0m \u001b[0mself\u001b[0m\u001b[0;34m.\u001b[0m\u001b[0mxaxis\u001b[0m \u001b[0;32mis\u001b[0m \u001b[0;32mnot\u001b[0m \u001b[0;32mNone\u001b[0m\u001b[0;34m:\u001b[0m\u001b[0;34m\u001b[0m\u001b[0;34m\u001b[0m\u001b[0m\n",
            "\u001b[0;32m/usr/local/lib/python3.6/dist-packages/matplotlib/artist.py\u001b[0m in \u001b[0;36mupdate\u001b[0;34m(self, props)\u001b[0m\n\u001b[1;32m    914\u001b[0m \u001b[0;34m\u001b[0m\u001b[0m\n\u001b[1;32m    915\u001b[0m         \u001b[0;32mwith\u001b[0m \u001b[0mcbook\u001b[0m\u001b[0;34m.\u001b[0m\u001b[0m_setattr_cm\u001b[0m\u001b[0;34m(\u001b[0m\u001b[0mself\u001b[0m\u001b[0;34m,\u001b[0m \u001b[0meventson\u001b[0m\u001b[0;34m=\u001b[0m\u001b[0;32mFalse\u001b[0m\u001b[0;34m)\u001b[0m\u001b[0;34m:\u001b[0m\u001b[0;34m\u001b[0m\u001b[0;34m\u001b[0m\u001b[0m\n\u001b[0;32m--> 916\u001b[0;31m             \u001b[0mret\u001b[0m \u001b[0;34m=\u001b[0m \u001b[0;34m[\u001b[0m\u001b[0m_update_property\u001b[0m\u001b[0;34m(\u001b[0m\u001b[0mself\u001b[0m\u001b[0;34m,\u001b[0m \u001b[0mk\u001b[0m\u001b[0;34m,\u001b[0m \u001b[0mv\u001b[0m\u001b[0;34m)\u001b[0m \u001b[0;32mfor\u001b[0m \u001b[0mk\u001b[0m\u001b[0;34m,\u001b[0m \u001b[0mv\u001b[0m \u001b[0;32min\u001b[0m \u001b[0mprops\u001b[0m\u001b[0;34m.\u001b[0m\u001b[0mitems\u001b[0m\u001b[0;34m(\u001b[0m\u001b[0;34m)\u001b[0m\u001b[0;34m]\u001b[0m\u001b[0;34m\u001b[0m\u001b[0;34m\u001b[0m\u001b[0m\n\u001b[0m\u001b[1;32m    917\u001b[0m \u001b[0;34m\u001b[0m\u001b[0m\n\u001b[1;32m    918\u001b[0m         \u001b[0;32mif\u001b[0m \u001b[0mlen\u001b[0m\u001b[0;34m(\u001b[0m\u001b[0mret\u001b[0m\u001b[0;34m)\u001b[0m\u001b[0;34m:\u001b[0m\u001b[0;34m\u001b[0m\u001b[0;34m\u001b[0m\u001b[0m\n",
            "\u001b[0;32m/usr/local/lib/python3.6/dist-packages/matplotlib/artist.py\u001b[0m in \u001b[0;36m<listcomp>\u001b[0;34m(.0)\u001b[0m\n\u001b[1;32m    914\u001b[0m \u001b[0;34m\u001b[0m\u001b[0m\n\u001b[1;32m    915\u001b[0m         \u001b[0;32mwith\u001b[0m \u001b[0mcbook\u001b[0m\u001b[0;34m.\u001b[0m\u001b[0m_setattr_cm\u001b[0m\u001b[0;34m(\u001b[0m\u001b[0mself\u001b[0m\u001b[0;34m,\u001b[0m \u001b[0meventson\u001b[0m\u001b[0;34m=\u001b[0m\u001b[0;32mFalse\u001b[0m\u001b[0;34m)\u001b[0m\u001b[0;34m:\u001b[0m\u001b[0;34m\u001b[0m\u001b[0;34m\u001b[0m\u001b[0m\n\u001b[0;32m--> 916\u001b[0;31m             \u001b[0mret\u001b[0m \u001b[0;34m=\u001b[0m \u001b[0;34m[\u001b[0m\u001b[0m_update_property\u001b[0m\u001b[0;34m(\u001b[0m\u001b[0mself\u001b[0m\u001b[0;34m,\u001b[0m \u001b[0mk\u001b[0m\u001b[0;34m,\u001b[0m \u001b[0mv\u001b[0m\u001b[0;34m)\u001b[0m \u001b[0;32mfor\u001b[0m \u001b[0mk\u001b[0m\u001b[0;34m,\u001b[0m \u001b[0mv\u001b[0m \u001b[0;32min\u001b[0m \u001b[0mprops\u001b[0m\u001b[0;34m.\u001b[0m\u001b[0mitems\u001b[0m\u001b[0;34m(\u001b[0m\u001b[0;34m)\u001b[0m\u001b[0;34m]\u001b[0m\u001b[0;34m\u001b[0m\u001b[0;34m\u001b[0m\u001b[0m\n\u001b[0m\u001b[1;32m    917\u001b[0m \u001b[0;34m\u001b[0m\u001b[0m\n\u001b[1;32m    918\u001b[0m         \u001b[0;32mif\u001b[0m \u001b[0mlen\u001b[0m\u001b[0;34m(\u001b[0m\u001b[0mret\u001b[0m\u001b[0;34m)\u001b[0m\u001b[0;34m:\u001b[0m\u001b[0;34m\u001b[0m\u001b[0;34m\u001b[0m\u001b[0m\n",
            "\u001b[0;32m/usr/local/lib/python3.6/dist-packages/matplotlib/artist.py\u001b[0m in \u001b[0;36m_update_property\u001b[0;34m(self, k, v)\u001b[0m\n\u001b[1;32m    910\u001b[0m                 \u001b[0mfunc\u001b[0m \u001b[0;34m=\u001b[0m \u001b[0mgetattr\u001b[0m\u001b[0;34m(\u001b[0m\u001b[0mself\u001b[0m\u001b[0;34m,\u001b[0m \u001b[0;34m'set_'\u001b[0m \u001b[0;34m+\u001b[0m \u001b[0mk\u001b[0m\u001b[0;34m,\u001b[0m \u001b[0;32mNone\u001b[0m\u001b[0;34m)\u001b[0m\u001b[0;34m\u001b[0m\u001b[0;34m\u001b[0m\u001b[0m\n\u001b[1;32m    911\u001b[0m                 \u001b[0;32mif\u001b[0m \u001b[0;32mnot\u001b[0m \u001b[0mcallable\u001b[0m\u001b[0;34m(\u001b[0m\u001b[0mfunc\u001b[0m\u001b[0;34m)\u001b[0m\u001b[0;34m:\u001b[0m\u001b[0;34m\u001b[0m\u001b[0;34m\u001b[0m\u001b[0m\n\u001b[0;32m--> 912\u001b[0;31m                     \u001b[0;32mraise\u001b[0m \u001b[0mAttributeError\u001b[0m\u001b[0;34m(\u001b[0m\u001b[0;34m'Unknown property %s'\u001b[0m \u001b[0;34m%\u001b[0m \u001b[0mk\u001b[0m\u001b[0;34m)\u001b[0m\u001b[0;34m\u001b[0m\u001b[0;34m\u001b[0m\u001b[0m\n\u001b[0m\u001b[1;32m    913\u001b[0m                 \u001b[0;32mreturn\u001b[0m \u001b[0mfunc\u001b[0m\u001b[0;34m(\u001b[0m\u001b[0mv\u001b[0m\u001b[0;34m)\u001b[0m\u001b[0;34m\u001b[0m\u001b[0;34m\u001b[0m\u001b[0m\n\u001b[1;32m    914\u001b[0m \u001b[0;34m\u001b[0m\u001b[0m\n",
            "\u001b[0;31mAttributeError\u001b[0m: Unknown property axisbg"
          ]
        },
        {
          "output_type": "display_data",
          "data": {
            "text/plain": [
              "<Figure size 720x720 with 0 Axes>"
            ]
          },
          "metadata": {
            "tags": []
          }
        }
      ]
    },
    {
      "metadata": {
        "id": "ZxX9hvb5DlaA",
        "colab_type": "text"
      },
      "cell_type": "markdown",
      "source": [
        "### (f)\n",
        "#### One last touch: let's change the color map to make it easier to tell positive (higher rate than average) from negative (lower rate than average), and the range of colors to highlight significance levels.  For `vmin` and `vmax` set some typical significance cutoffs for a Z-score on the low and high end respectively (or ask me if you haven't seen Z-scores before).  "
      ]
    },
    {
      "metadata": {
        "id": "9q9KoE09DlaB",
        "colab_type": "code",
        "colab": {}
      },
      "cell_type": "code",
      "source": [
        "cm = sns.clustermap(spike_rates, \n",
        "                    vmin=-1, # The bluest color will be this Z-score\n",
        "                    vmax=1, # The reddest color will be this Z-score\n",
        "                    cmap='RdBu_r', # This is the name of a color map, in this case from Blue to Red\n",
        "                    col_cluster=False, \n",
        "                    z_score=0, # This tells the function to compute the Z-score in each row (i.e. for each cell across track locations)\n",
        "                    cbar_kws={'label':'Z-score'})"
      ],
      "execution_count": 0,
      "outputs": []
    },
    {
      "metadata": {
        "id": "RvghPImSDlaE",
        "colab_type": "text"
      },
      "cell_type": "markdown",
      "source": [
        "## (3)"
      ]
    },
    {
      "metadata": {
        "id": "i7haNWF_DlaF",
        "colab_type": "text"
      },
      "cell_type": "markdown",
      "source": [
        "### The figure above is pretty cool.  We can clearly see which cells are active at which parts of the track, and similarly-responding cells are grouped together.  Now let's use pieces of this figure to answer questions.  "
      ]
    },
    {
      "metadata": {
        "id": "u8iovDjEDlaH",
        "colab_type": "text"
      },
      "cell_type": "markdown",
      "source": [
        "### (a)\n",
        "#### First, let's extract one cell from the `spike_rates` data that we computed earlier, in particular cell #1106 (accessible by it's integer representation).  Then let's plot it's tuning curve -- this is just a slice through the figure above, but it shows us very clearly at what part of the track this particular cell responds most.  "
      ]
    },
    {
      "metadata": {
        "id": "srL2XyrfDlaJ",
        "colab_type": "code",
        "colab": {}
      },
      "cell_type": "code",
      "source": [
        "cell_id = 1106\n",
        "one_cell_spike_rates = spike_rates.loc[1106]\n",
        "one_cell_spike_rates.plot();\n",
        "plt.ylabel('Firing Rate (Hz)');\n",
        "plt.title('Receptive field for cell %d' % 1106);"
      ],
      "execution_count": 0,
      "outputs": []
    },
    {
      "metadata": {
        "id": "XJJADw8MDlaN",
        "colab_type": "text"
      },
      "cell_type": "markdown",
      "source": [
        "### (b) \n",
        "#### What is the maximum firing rate for this cell (use `.max()`, and where on the track does it occur (use `.idxmax()`).  Use a print statement to write your answer.  Include units.  "
      ]
    },
    {
      "metadata": {
        "id": "63-ju3GpDlaO",
        "colab_type": "code",
        "colab": {}
      },
      "cell_type": "code",
      "source": [
        "print(\"The maximum is ... and it occurs at ...\" % (.max(),.idxmax()))"
      ],
      "execution_count": 0,
      "outputs": []
    },
    {
      "metadata": {
        "id": "Sxi0vS97DlaQ",
        "colab_type": "text"
      },
      "cell_type": "markdown",
      "source": [
        "### (c)\n",
        "#### Compute the width of this tuning curve, defined as the width at half of it's maximum height.  You can use a selector to extract the part that is above half of the maximum height, and then subtract the last and first values of the extract data's index (which is in units of meters).  "
      ]
    },
    {
      "metadata": {
        "id": "44jBpeeBDlaS",
        "colab_type": "code",
        "colab": {}
      },
      "cell_type": "code",
      "source": [
        "is_it_above_half_max = one_cell_spike_rates > 1.3\n",
        "only_those_above_half_max = one_cell_spike_rates>1.3\n",
        "first_location = only_those_above_half_max[] # The left-edge of the width\n",
        "last_location = only_those_above_half_max[] # The right-edge of the width\n",
        "print(\"The width is ...\" % (last_location - first_location))"
      ],
      "execution_count": 0,
      "outputs": []
    },
    {
      "metadata": {
        "id": "o2lEg4FlDlaU",
        "colab_type": "text"
      },
      "cell_type": "markdown",
      "source": [
        "## (4)\n",
        "### (a)\n",
        "#### Now let's see if we can use the tuning curves of these cells to decode the position of the rat at a given time.  This means figuring out where the rat is based only on the activity of neurons in its brain.  First, let's extract a narrow range of time (0.2 seconds) and see where the rat was over that period of time.  "
      ]
    },
    {
      "metadata": {
        "id": "61indqkCDlaV",
        "colab_type": "code",
        "outputId": "d8170271-f341-447c-f173-5d6698729aaa",
        "colab": {
          "base_uri": "https://localhost:8080/",
          "height": 187
        }
      },
      "cell_type": "code",
      "source": [
        "t_begin = 19004.8\n",
        "t_end = t_begin + 0.2\n",
        "is_time_in_range = (locations.index>19004.8) & (locations.index<19005)\n",
        "current_locations = locations[is_time_in_range]['d'] # First elipsis to select matching rows; second elipsis to select the column contains the track location\n",
        "current_locations"
      ],
      "execution_count": 20,
      "outputs": [
        {
          "output_type": "execute_result",
          "data": {
            "text/plain": [
              "t\n",
              "19004.808778    1.127201\n",
              "19004.834378    1.098599\n",
              "19004.859977    1.068989\n",
              "19004.885577    1.042070\n",
              "19004.911177    1.019299\n",
              "19004.936777    1.004831\n",
              "19004.962377    0.986472\n",
              "19004.987977    0.961660\n",
              "Name: d, dtype: float64"
            ]
          },
          "metadata": {
            "tags": []
          },
          "execution_count": 20
        }
      ]
    },
    {
      "metadata": {
        "id": "2B9emCyaDlaa",
        "colab_type": "text"
      },
      "cell_type": "markdown",
      "source": [
        "### (b)\n",
        "#### Next, let's extract only the spikes that occurred in that range of time so we can figure out if they tell us anything.  "
      ]
    },
    {
      "metadata": {
        "id": "TYrXXaFlDlab",
        "colab_type": "code",
        "outputId": "6e448982-b167-4d83-c82f-eb397fe34b1f",
        "colab": {
          "base_uri": "https://localhost:8080/",
          "height": 218
        }
      },
      "cell_type": "code",
      "source": [
        "is_time_in_range = (spikes.index>t_begin) & (spikes.index<t_end) # First elipsis in each case is NOT `locations`, but the data frame containing spike information!\n",
        "current_spikes_cell_ids = [is_time_in_range]['cell_ids'] # Extract the cell_ids for spikes that occurred during this time range\n",
        "current_spikes_cell_ids.head()"
      ],
      "execution_count": 22,
      "outputs": [
        {
          "output_type": "error",
          "ename": "TypeError",
          "evalue": "ignored",
          "traceback": [
            "\u001b[0;31m---------------------------------------------------------------------------\u001b[0m",
            "\u001b[0;31mTypeError\u001b[0m                                 Traceback (most recent call last)",
            "\u001b[0;32m<ipython-input-22-0abbd551a59b>\u001b[0m in \u001b[0;36m<module>\u001b[0;34m()\u001b[0m\n\u001b[1;32m      1\u001b[0m \u001b[0mis_time_in_range\u001b[0m \u001b[0;34m=\u001b[0m \u001b[0;34m(\u001b[0m\u001b[0mspikes\u001b[0m\u001b[0;34m.\u001b[0m\u001b[0mindex\u001b[0m\u001b[0;34m>\u001b[0m\u001b[0mt_begin\u001b[0m\u001b[0;34m)\u001b[0m \u001b[0;34m&\u001b[0m \u001b[0;34m(\u001b[0m\u001b[0mspikes\u001b[0m\u001b[0;34m.\u001b[0m\u001b[0mindex\u001b[0m\u001b[0;34m<\u001b[0m\u001b[0mt_end\u001b[0m\u001b[0;34m)\u001b[0m \u001b[0;31m# First elipsis in each case is NOT `locations`, but the data frame containing spike information!\u001b[0m\u001b[0;34m\u001b[0m\u001b[0;34m\u001b[0m\u001b[0m\n\u001b[0;32m----> 2\u001b[0;31m \u001b[0mcurrent_spikes_cell_ids\u001b[0m \u001b[0;34m=\u001b[0m \u001b[0;34m[\u001b[0m\u001b[0mis_time_in_range\u001b[0m\u001b[0;34m]\u001b[0m\u001b[0;34m[\u001b[0m\u001b[0;34m'cell_ids'\u001b[0m\u001b[0;34m]\u001b[0m \u001b[0;31m# Extract the cell_ids for spikes that occurred during this time range\u001b[0m\u001b[0;34m\u001b[0m\u001b[0;34m\u001b[0m\u001b[0m\n\u001b[0m\u001b[1;32m      3\u001b[0m \u001b[0mcurrent_spikes_cell_ids\u001b[0m\u001b[0;34m.\u001b[0m\u001b[0mhead\u001b[0m\u001b[0;34m(\u001b[0m\u001b[0;34m)\u001b[0m\u001b[0;34m\u001b[0m\u001b[0;34m\u001b[0m\u001b[0m\n",
            "\u001b[0;31mTypeError\u001b[0m: list indices must be integers or slices, not str"
          ]
        }
      ]
    },
    {
      "metadata": {
        "id": "X4ME9yScDlad",
        "colab_type": "text"
      },
      "cell_type": "markdown",
      "source": [
        "### (c) \n",
        "#### Bayes theorem says that $p(x | s) = p(s | x) * p(x) / p(s)$\n",
        "#### This means that the probability that the rate is at position `x`, given that know about some spikes `s`, is proportional to the probability of some spikes `s` having occurred at position `x`.  The term $p(s|x)/p(s)$ is basically just the normalized firing rate we computed earlier -- the probability of spiking at one position divided by the probability of spiking at any position.  We also computed the term $p(x)$ earlier -- that is just the normalized duration that the rat spends at each position.  It is pretty constant, so we can just ignore it. \n",
        "#### Let's construct our decoder using Bayes theorem.  First, let's make an empty data frame by re-using an old one and setting all the values to 0.  Then, for each cell that could helps us decode the rat's location, let's add the term $p(s | x) / p(s)$, which is just the normalized spike rate we computed earlier.  "
      ]
    },
    {
      "metadata": {
        "id": "5eskvOpzDlaf",
        "colab_type": "code",
        "colab": {
          "base_uri": "https://localhost:8080/",
          "height": 198
        },
        "outputId": "93b2b166-cd8f-43a7-dc58-b0daeca1120e"
      },
      "cell_type": "code",
      "source": [
        "decoder = spike_rates_normalized.copy() * 1\n",
        "for cell_id in current_spikes_cell_ids:\n",
        "    decoder.loc[cell_ids] += spike_rates_normalized.loc[cell_ids]"
      ],
      "execution_count": 23,
      "outputs": [
        {
          "output_type": "error",
          "ename": "NameError",
          "evalue": "ignored",
          "traceback": [
            "\u001b[0;31m---------------------------------------------------------------------------\u001b[0m",
            "\u001b[0;31mNameError\u001b[0m                                 Traceback (most recent call last)",
            "\u001b[0;32m<ipython-input-23-273d7501b567>\u001b[0m in \u001b[0;36m<module>\u001b[0;34m()\u001b[0m\n\u001b[1;32m      1\u001b[0m \u001b[0mdecoder\u001b[0m \u001b[0;34m=\u001b[0m \u001b[0mspike_rates_normalized\u001b[0m\u001b[0;34m.\u001b[0m\u001b[0mcopy\u001b[0m\u001b[0;34m(\u001b[0m\u001b[0;34m)\u001b[0m \u001b[0;34m*\u001b[0m \u001b[0;36m1\u001b[0m\u001b[0;34m\u001b[0m\u001b[0;34m\u001b[0m\u001b[0m\n\u001b[0;32m----> 2\u001b[0;31m \u001b[0;32mfor\u001b[0m \u001b[0mcell_id\u001b[0m \u001b[0;32min\u001b[0m \u001b[0mcurrent_spikes_cell_ids\u001b[0m\u001b[0;34m:\u001b[0m\u001b[0;34m\u001b[0m\u001b[0;34m\u001b[0m\u001b[0m\n\u001b[0m\u001b[1;32m      3\u001b[0m     \u001b[0mdecoder\u001b[0m\u001b[0;34m.\u001b[0m\u001b[0mloc\u001b[0m\u001b[0;34m[\u001b[0m\u001b[0mcell_ids\u001b[0m\u001b[0;34m]\u001b[0m \u001b[0;34m+=\u001b[0m \u001b[0mspike_rates_normalized\u001b[0m\u001b[0;34m.\u001b[0m\u001b[0mloc\u001b[0m\u001b[0;34m[\u001b[0m\u001b[0mcell_ids\u001b[0m\u001b[0;34m]\u001b[0m\u001b[0;34m\u001b[0m\u001b[0;34m\u001b[0m\u001b[0m\n",
            "\u001b[0;31mNameError\u001b[0m: name 'current_spikes_cell_ids' is not defined"
          ]
        }
      ]
    },
    {
      "metadata": {
        "id": "umVpSOdHDlah",
        "colab_type": "text"
      },
      "cell_type": "markdown",
      "source": [
        "### (d)\n",
        "#### Let's allow every cell to contribute equally to decoding.  Take the mean of the decoder across cells with the `.mean()` method, then plot it with the `.plot()` method.  "
      ]
    },
    {
      "metadata": {
        "id": "U1qRQjosDlah",
        "colab_type": "code",
        "colab": {
          "base_uri": "https://localhost:8080/",
          "height": 34
        },
        "outputId": "6cfd0fc8-25b3-4e4c-8d44-f1cc989d019d"
      },
      "cell_type": "code",
      "source": [
        "decoder_mean = decoder.mean()\n",
        "decoder_mean.plot # Use this line to plot"
      ],
      "execution_count": 24,
      "outputs": [
        {
          "output_type": "execute_result",
          "data": {
            "text/plain": [
              "<pandas.plotting._core.SeriesPlotMethods object at 0x7fc531bd4748>"
            ]
          },
          "metadata": {
            "tags": []
          },
          "execution_count": 24
        }
      ]
    },
    {
      "metadata": {
        "id": "be4wugPiDlak",
        "colab_type": "text"
      },
      "cell_type": "markdown",
      "source": [
        "### (e)\n",
        "#### According to our neural decoder, what is the highest probability location?  How does that compare to the rat's actual location during that time?  Do rat neurons know where they are?  "
      ]
    },
    {
      "metadata": {
        "id": "xKUece4tDlam",
        "colab_type": "code",
        "colab": {
          "base_uri": "https://localhost:8080/",
          "height": 2054
        },
        "outputId": "2be58841-443e-4477-92f9-d1e7f0615347"
      },
      "cell_type": "code",
      "source": [
        "decoder\n",
        "#print(\"The decoder says ... and the actual location is ..., which are %s\" % \n",
        "      ##(..., ..., \"INSERT HERE SOMETHING ABOUT HOW CLOSE YOU THINK THEY ARE\")) # First elipsis is deocoder peak location; second elipsis is average real location of the rat during that time period"
      ],
      "execution_count": 25,
      "outputs": [
        {
          "output_type": "execute_result",
          "data": {
            "text/html": [
              "<div>\n",
              "<style scoped>\n",
              "    .dataframe tbody tr th:only-of-type {\n",
              "        vertical-align: middle;\n",
              "    }\n",
              "\n",
              "    .dataframe tbody tr th {\n",
              "        vertical-align: top;\n",
              "    }\n",
              "\n",
              "    .dataframe thead th {\n",
              "        text-align: right;\n",
              "    }\n",
              "</style>\n",
              "<table border=\"1\" class=\"dataframe\">\n",
              "  <thead>\n",
              "    <tr style=\"text-align: right;\">\n",
              "      <th>Location on Track (m)</th>\n",
              "      <th>0.209</th>\n",
              "      <th>0.228</th>\n",
              "      <th>0.247</th>\n",
              "      <th>0.266</th>\n",
              "      <th>0.284</th>\n",
              "      <th>0.303</th>\n",
              "      <th>0.322</th>\n",
              "      <th>0.341</th>\n",
              "      <th>0.359</th>\n",
              "      <th>0.378</th>\n",
              "      <th>...</th>\n",
              "      <th>1.222</th>\n",
              "      <th>1.24</th>\n",
              "      <th>1.259</th>\n",
              "      <th>1.278</th>\n",
              "      <th>1.297</th>\n",
              "      <th>1.315</th>\n",
              "      <th>1.334</th>\n",
              "      <th>1.353</th>\n",
              "      <th>1.372</th>\n",
              "      <th>1.39</th>\n",
              "    </tr>\n",
              "    <tr>\n",
              "      <th>Cell ID</th>\n",
              "      <th></th>\n",
              "      <th></th>\n",
              "      <th></th>\n",
              "      <th></th>\n",
              "      <th></th>\n",
              "      <th></th>\n",
              "      <th></th>\n",
              "      <th></th>\n",
              "      <th></th>\n",
              "      <th></th>\n",
              "      <th></th>\n",
              "      <th></th>\n",
              "      <th></th>\n",
              "      <th></th>\n",
              "      <th></th>\n",
              "      <th></th>\n",
              "      <th></th>\n",
              "      <th></th>\n",
              "      <th></th>\n",
              "      <th></th>\n",
              "      <th></th>\n",
              "    </tr>\n",
              "  </thead>\n",
              "  <tbody>\n",
              "    <tr>\n",
              "      <th>609</th>\n",
              "      <td>0.812220</td>\n",
              "      <td>0.815435</td>\n",
              "      <td>0.822331</td>\n",
              "      <td>0.833559</td>\n",
              "      <td>0.849670</td>\n",
              "      <td>0.870996</td>\n",
              "      <td>0.897712</td>\n",
              "      <td>0.929831</td>\n",
              "      <td>0.966890</td>\n",
              "      <td>1.007379</td>\n",
              "      <td>...</td>\n",
              "      <td>0.987434</td>\n",
              "      <td>0.987123</td>\n",
              "      <td>0.982109</td>\n",
              "      <td>0.972064</td>\n",
              "      <td>0.957569</td>\n",
              "      <td>0.939958</td>\n",
              "      <td>0.921272</td>\n",
              "      <td>0.904025</td>\n",
              "      <td>0.890763</td>\n",
              "      <td>0.883556</td>\n",
              "    </tr>\n",
              "    <tr>\n",
              "      <th>529</th>\n",
              "      <td>5.298351</td>\n",
              "      <td>4.843605</td>\n",
              "      <td>4.080427</td>\n",
              "      <td>3.228223</td>\n",
              "      <td>2.481061</td>\n",
              "      <td>1.938446</td>\n",
              "      <td>1.592698</td>\n",
              "      <td>1.364952</td>\n",
              "      <td>1.165586</td>\n",
              "      <td>0.943214</td>\n",
              "      <td>...</td>\n",
              "      <td>0.765733</td>\n",
              "      <td>1.225203</td>\n",
              "      <td>1.807574</td>\n",
              "      <td>2.479657</td>\n",
              "      <td>3.194080</td>\n",
              "      <td>3.904763</td>\n",
              "      <td>4.570941</td>\n",
              "      <td>5.149268</td>\n",
              "      <td>5.585816</td>\n",
              "      <td>5.823406</td>\n",
              "    </tr>\n",
              "    <tr>\n",
              "      <th>1209</th>\n",
              "      <td>1.023071</td>\n",
              "      <td>1.018041</td>\n",
              "      <td>1.009526</td>\n",
              "      <td>0.999682</td>\n",
              "      <td>0.990187</td>\n",
              "      <td>0.981730</td>\n",
              "      <td>0.974369</td>\n",
              "      <td>0.968336</td>\n",
              "      <td>0.964546</td>\n",
              "      <td>0.964247</td>\n",
              "      <td>...</td>\n",
              "      <td>0.979394</td>\n",
              "      <td>1.000852</td>\n",
              "      <td>1.028671</td>\n",
              "      <td>1.059151</td>\n",
              "      <td>1.087730</td>\n",
              "      <td>1.110484</td>\n",
              "      <td>1.125553</td>\n",
              "      <td>1.133495</td>\n",
              "      <td>1.136533</td>\n",
              "      <td>1.137234</td>\n",
              "    </tr>\n",
              "    <tr>\n",
              "      <th>416</th>\n",
              "      <td>1.348601</td>\n",
              "      <td>1.316223</td>\n",
              "      <td>1.261954</td>\n",
              "      <td>1.202440</td>\n",
              "      <td>1.154672</td>\n",
              "      <td>1.132191</td>\n",
              "      <td>1.143764</td>\n",
              "      <td>1.193765</td>\n",
              "      <td>1.282779</td>\n",
              "      <td>1.406727</td>\n",
              "      <td>...</td>\n",
              "      <td>0.624437</td>\n",
              "      <td>0.618211</td>\n",
              "      <td>0.606493</td>\n",
              "      <td>0.594242</td>\n",
              "      <td>0.587641</td>\n",
              "      <td>0.591744</td>\n",
              "      <td>0.607652</td>\n",
              "      <td>0.631278</td>\n",
              "      <td>0.654660</td>\n",
              "      <td>0.669122</td>\n",
              "    </tr>\n",
              "    <tr>\n",
              "      <th>828</th>\n",
              "      <td>0.515027</td>\n",
              "      <td>0.517703</td>\n",
              "      <td>0.524011</td>\n",
              "      <td>0.535567</td>\n",
              "      <td>0.554330</td>\n",
              "      <td>0.582265</td>\n",
              "      <td>0.621041</td>\n",
              "      <td>0.671396</td>\n",
              "      <td>0.732120</td>\n",
              "      <td>0.799132</td>\n",
              "      <td>...</td>\n",
              "      <td>1.306936</td>\n",
              "      <td>1.329438</td>\n",
              "      <td>1.345330</td>\n",
              "      <td>1.350639</td>\n",
              "      <td>1.344944</td>\n",
              "      <td>1.331163</td>\n",
              "      <td>1.313929</td>\n",
              "      <td>1.297659</td>\n",
              "      <td>1.285455</td>\n",
              "      <td>1.279036</td>\n",
              "    </tr>\n",
              "    <tr>\n",
              "      <th>119</th>\n",
              "      <td>0.869344</td>\n",
              "      <td>0.871190</td>\n",
              "      <td>0.875908</td>\n",
              "      <td>0.884765</td>\n",
              "      <td>0.898304</td>\n",
              "      <td>0.915793</td>\n",
              "      <td>0.935362</td>\n",
              "      <td>0.954700</td>\n",
              "      <td>0.971829</td>\n",
              "      <td>0.985538</td>\n",
              "      <td>...</td>\n",
              "      <td>1.044528</td>\n",
              "      <td>1.067101</td>\n",
              "      <td>1.088206</td>\n",
              "      <td>1.106222</td>\n",
              "      <td>1.120344</td>\n",
              "      <td>1.130723</td>\n",
              "      <td>1.138232</td>\n",
              "      <td>1.143789</td>\n",
              "      <td>1.147763</td>\n",
              "      <td>1.149937</td>\n",
              "    </tr>\n",
              "    <tr>\n",
              "      <th>410</th>\n",
              "      <td>1.006986</td>\n",
              "      <td>1.008122</td>\n",
              "      <td>1.010146</td>\n",
              "      <td>1.012498</td>\n",
              "      <td>1.014480</td>\n",
              "      <td>1.015542</td>\n",
              "      <td>1.015932</td>\n",
              "      <td>1.017219</td>\n",
              "      <td>1.022152</td>\n",
              "      <td>1.033270</td>\n",
              "      <td>...</td>\n",
              "      <td>0.947985</td>\n",
              "      <td>1.008113</td>\n",
              "      <td>1.079908</td>\n",
              "      <td>1.154986</td>\n",
              "      <td>1.222090</td>\n",
              "      <td>1.271604</td>\n",
              "      <td>1.299951</td>\n",
              "      <td>1.310483</td>\n",
              "      <td>1.310778</td>\n",
              "      <td>1.308594</td>\n",
              "    </tr>\n",
              "    <tr>\n",
              "      <th>537</th>\n",
              "      <td>1.005536</td>\n",
              "      <td>1.003066</td>\n",
              "      <td>0.999381</td>\n",
              "      <td>0.996215</td>\n",
              "      <td>0.994808</td>\n",
              "      <td>0.995330</td>\n",
              "      <td>0.997001</td>\n",
              "      <td>0.998711</td>\n",
              "      <td>0.999617</td>\n",
              "      <td>0.999319</td>\n",
              "      <td>...</td>\n",
              "      <td>1.052964</td>\n",
              "      <td>1.059147</td>\n",
              "      <td>1.062734</td>\n",
              "      <td>1.064059</td>\n",
              "      <td>1.063848</td>\n",
              "      <td>1.062796</td>\n",
              "      <td>1.061444</td>\n",
              "      <td>1.060148</td>\n",
              "      <td>1.059155</td>\n",
              "      <td>1.058622</td>\n",
              "    </tr>\n",
              "    <tr>\n",
              "      <th>615</th>\n",
              "      <td>2.781739</td>\n",
              "      <td>2.768503</td>\n",
              "      <td>2.741713</td>\n",
              "      <td>2.700918</td>\n",
              "      <td>2.645488</td>\n",
              "      <td>2.574350</td>\n",
              "      <td>2.485822</td>\n",
              "      <td>2.378379</td>\n",
              "      <td>2.251816</td>\n",
              "      <td>2.108665</td>\n",
              "      <td>...</td>\n",
              "      <td>0.077713</td>\n",
              "      <td>0.083064</td>\n",
              "      <td>0.090516</td>\n",
              "      <td>0.101115</td>\n",
              "      <td>0.115561</td>\n",
              "      <td>0.133458</td>\n",
              "      <td>0.153036</td>\n",
              "      <td>0.171537</td>\n",
              "      <td>0.185966</td>\n",
              "      <td>0.193872</td>\n",
              "    </tr>\n",
              "    <tr>\n",
              "      <th>819</th>\n",
              "      <td>0.357549</td>\n",
              "      <td>0.363859</td>\n",
              "      <td>0.377884</td>\n",
              "      <td>0.402233</td>\n",
              "      <td>0.440257</td>\n",
              "      <td>0.495369</td>\n",
              "      <td>0.570517</td>\n",
              "      <td>0.667717</td>\n",
              "      <td>0.787608</td>\n",
              "      <td>0.928307</td>\n",
              "      <td>...</td>\n",
              "      <td>0.303586</td>\n",
              "      <td>0.276055</td>\n",
              "      <td>0.250062</td>\n",
              "      <td>0.224954</td>\n",
              "      <td>0.200515</td>\n",
              "      <td>0.177521</td>\n",
              "      <td>0.157454</td>\n",
              "      <td>0.141775</td>\n",
              "      <td>0.131281</td>\n",
              "      <td>0.126106</td>\n",
              "    </tr>\n",
              "    <tr>\n",
              "      <th>305</th>\n",
              "      <td>2.779696</td>\n",
              "      <td>2.765482</td>\n",
              "      <td>2.731523</td>\n",
              "      <td>2.669324</td>\n",
              "      <td>2.571192</td>\n",
              "      <td>2.433223</td>\n",
              "      <td>2.257029</td>\n",
              "      <td>2.050083</td>\n",
              "      <td>1.824907</td>\n",
              "      <td>1.597294</td>\n",
              "      <td>...</td>\n",
              "      <td>0.903239</td>\n",
              "      <td>0.952241</td>\n",
              "      <td>0.990599</td>\n",
              "      <td>1.017914</td>\n",
              "      <td>1.034273</td>\n",
              "      <td>1.040063</td>\n",
              "      <td>1.036477</td>\n",
              "      <td>1.026496</td>\n",
              "      <td>1.014968</td>\n",
              "      <td>1.007365</td>\n",
              "    </tr>\n",
              "    <tr>\n",
              "      <th>930</th>\n",
              "      <td>0.875062</td>\n",
              "      <td>0.876866</td>\n",
              "      <td>0.879303</td>\n",
              "      <td>0.880700</td>\n",
              "      <td>0.879823</td>\n",
              "      <td>0.876528</td>\n",
              "      <td>0.871796</td>\n",
              "      <td>0.867169</td>\n",
              "      <td>0.863851</td>\n",
              "      <td>0.861991</td>\n",
              "      <td>...</td>\n",
              "      <td>1.078905</td>\n",
              "      <td>1.113839</td>\n",
              "      <td>1.152968</td>\n",
              "      <td>1.192182</td>\n",
              "      <td>1.226364</td>\n",
              "      <td>1.251129</td>\n",
              "      <td>1.264839</td>\n",
              "      <td>1.269217</td>\n",
              "      <td>1.268309</td>\n",
              "      <td>1.266489</td>\n",
              "    </tr>\n",
              "    <tr>\n",
              "      <th>103</th>\n",
              "      <td>0.947525</td>\n",
              "      <td>0.945904</td>\n",
              "      <td>0.943228</td>\n",
              "      <td>0.940157</td>\n",
              "      <td>0.936934</td>\n",
              "      <td>0.933136</td>\n",
              "      <td>0.927922</td>\n",
              "      <td>0.920598</td>\n",
              "      <td>0.911170</td>\n",
              "      <td>0.900562</td>\n",
              "      <td>...</td>\n",
              "      <td>1.087954</td>\n",
              "      <td>1.082082</td>\n",
              "      <td>1.069751</td>\n",
              "      <td>1.049484</td>\n",
              "      <td>1.020978</td>\n",
              "      <td>0.986005</td>\n",
              "      <td>0.948510</td>\n",
              "      <td>0.913726</td>\n",
              "      <td>0.886943</td>\n",
              "      <td>0.872388</td>\n",
              "    </tr>\n",
              "    <tr>\n",
              "      <th>1303</th>\n",
              "      <td>0.941869</td>\n",
              "      <td>0.935484</td>\n",
              "      <td>0.923689</td>\n",
              "      <td>0.907966</td>\n",
              "      <td>0.889923</td>\n",
              "      <td>0.871558</td>\n",
              "      <td>0.855974</td>\n",
              "      <td>0.847830</td>\n",
              "      <td>0.852617</td>\n",
              "      <td>0.874414</td>\n",
              "      <td>...</td>\n",
              "      <td>1.112028</td>\n",
              "      <td>1.130514</td>\n",
              "      <td>1.145986</td>\n",
              "      <td>1.157003</td>\n",
              "      <td>1.161640</td>\n",
              "      <td>1.157982</td>\n",
              "      <td>1.145856</td>\n",
              "      <td>1.128233</td>\n",
              "      <td>1.110886</td>\n",
              "      <td>1.100140</td>\n",
              "    </tr>\n",
              "    <tr>\n",
              "      <th>532</th>\n",
              "      <td>7.596396</td>\n",
              "      <td>7.438744</td>\n",
              "      <td>7.129414</td>\n",
              "      <td>6.677987</td>\n",
              "      <td>6.096818</td>\n",
              "      <td>5.403411</td>\n",
              "      <td>4.625496</td>\n",
              "      <td>3.803856</td>\n",
              "      <td>2.989618</td>\n",
              "      <td>2.236019</td>\n",
              "      <td>...</td>\n",
              "      <td>0.008656</td>\n",
              "      <td>0.016956</td>\n",
              "      <td>0.033021</td>\n",
              "      <td>0.059264</td>\n",
              "      <td>0.096951</td>\n",
              "      <td>0.144807</td>\n",
              "      <td>0.198269</td>\n",
              "      <td>0.249984</td>\n",
              "      <td>0.291259</td>\n",
              "      <td>0.314247</td>\n",
              "    </tr>\n",
              "    <tr>\n",
              "      <th>121</th>\n",
              "      <td>2.422940</td>\n",
              "      <td>2.403349</td>\n",
              "      <td>2.361496</td>\n",
              "      <td>2.294342</td>\n",
              "      <td>2.201416</td>\n",
              "      <td>2.086294</td>\n",
              "      <td>1.956031</td>\n",
              "      <td>1.819364</td>\n",
              "      <td>1.684728</td>\n",
              "      <td>1.559044</td>\n",
              "      <td>...</td>\n",
              "      <td>0.533294</td>\n",
              "      <td>0.596871</td>\n",
              "      <td>0.696091</td>\n",
              "      <td>0.824164</td>\n",
              "      <td>0.964305</td>\n",
              "      <td>1.095197</td>\n",
              "      <td>1.199531</td>\n",
              "      <td>1.269972</td>\n",
              "      <td>1.309423</td>\n",
              "      <td>1.325968</td>\n",
              "    </tr>\n",
              "    <tr>\n",
              "      <th>403</th>\n",
              "      <td>1.201455</td>\n",
              "      <td>1.180727</td>\n",
              "      <td>1.143936</td>\n",
              "      <td>1.099562</td>\n",
              "      <td>1.058533</td>\n",
              "      <td>1.032316</td>\n",
              "      <td>1.030260</td>\n",
              "      <td>1.056816</td>\n",
              "      <td>1.109118</td>\n",
              "      <td>1.176416</td>\n",
              "      <td>...</td>\n",
              "      <td>0.940406</td>\n",
              "      <td>0.936768</td>\n",
              "      <td>0.953494</td>\n",
              "      <td>0.980658</td>\n",
              "      <td>1.014254</td>\n",
              "      <td>1.057360</td>\n",
              "      <td>1.114051</td>\n",
              "      <td>1.180924</td>\n",
              "      <td>1.243727</td>\n",
              "      <td>1.282370</td>\n",
              "    </tr>\n",
              "    <tr>\n",
              "      <th>927</th>\n",
              "      <td>5.299100</td>\n",
              "      <td>5.282110</td>\n",
              "      <td>5.242446</td>\n",
              "      <td>5.168655</td>\n",
              "      <td>5.044528</td>\n",
              "      <td>4.852011</td>\n",
              "      <td>4.576265</td>\n",
              "      <td>4.211681</td>\n",
              "      <td>3.766954</td>\n",
              "      <td>3.267095</td>\n",
              "      <td>...</td>\n",
              "      <td>0.090214</td>\n",
              "      <td>0.086893</td>\n",
              "      <td>0.089243</td>\n",
              "      <td>0.097209</td>\n",
              "      <td>0.108342</td>\n",
              "      <td>0.119054</td>\n",
              "      <td>0.126561</td>\n",
              "      <td>0.130086</td>\n",
              "      <td>0.130758</td>\n",
              "      <td>0.130430</td>\n",
              "    </tr>\n",
              "    <tr>\n",
              "      <th>417</th>\n",
              "      <td>2.215184</td>\n",
              "      <td>2.195800</td>\n",
              "      <td>2.157728</td>\n",
              "      <td>2.102067</td>\n",
              "      <td>2.030288</td>\n",
              "      <td>1.944668</td>\n",
              "      <td>1.848793</td>\n",
              "      <td>1.747371</td>\n",
              "      <td>1.644783</td>\n",
              "      <td>1.543457</td>\n",
              "      <td>...</td>\n",
              "      <td>0.653853</td>\n",
              "      <td>0.642782</td>\n",
              "      <td>0.623210</td>\n",
              "      <td>0.591113</td>\n",
              "      <td>0.545230</td>\n",
              "      <td>0.489038</td>\n",
              "      <td>0.430039</td>\n",
              "      <td>0.377117</td>\n",
              "      <td>0.337831</td>\n",
              "      <td>0.317072</td>\n",
              "    </tr>\n",
              "    <tr>\n",
              "      <th>920</th>\n",
              "      <td>0.747258</td>\n",
              "      <td>0.742697</td>\n",
              "      <td>0.735770</td>\n",
              "      <td>0.729665</td>\n",
              "      <td>0.727000</td>\n",
              "      <td>0.728766</td>\n",
              "      <td>0.734288</td>\n",
              "      <td>0.742039</td>\n",
              "      <td>0.750754</td>\n",
              "      <td>0.760118</td>\n",
              "      <td>...</td>\n",
              "      <td>0.988881</td>\n",
              "      <td>0.979325</td>\n",
              "      <td>0.974510</td>\n",
              "      <td>0.971640</td>\n",
              "      <td>0.967572</td>\n",
              "      <td>0.960288</td>\n",
              "      <td>0.949750</td>\n",
              "      <td>0.937820</td>\n",
              "      <td>0.927389</td>\n",
              "      <td>0.921302</td>\n",
              "    </tr>\n",
              "    <tr>\n",
              "      <th>422</th>\n",
              "      <td>1.998780</td>\n",
              "      <td>1.938887</td>\n",
              "      <td>1.852703</td>\n",
              "      <td>1.786166</td>\n",
              "      <td>1.768006</td>\n",
              "      <td>1.789062</td>\n",
              "      <td>1.802318</td>\n",
              "      <td>1.746298</td>\n",
              "      <td>1.579609</td>\n",
              "      <td>1.307105</td>\n",
              "      <td>...</td>\n",
              "      <td>1.168097</td>\n",
              "      <td>1.507895</td>\n",
              "      <td>1.838060</td>\n",
              "      <td>2.120881</td>\n",
              "      <td>2.366193</td>\n",
              "      <td>2.624301</td>\n",
              "      <td>2.943456</td>\n",
              "      <td>3.319007</td>\n",
              "      <td>3.674225</td>\n",
              "      <td>3.894334</td>\n",
              "    </tr>\n",
              "    <tr>\n",
              "      <th>1305</th>\n",
              "      <td>0.692039</td>\n",
              "      <td>0.667004</td>\n",
              "      <td>0.624413</td>\n",
              "      <td>0.575899</td>\n",
              "      <td>0.532649</td>\n",
              "      <td>0.501823</td>\n",
              "      <td>0.485489</td>\n",
              "      <td>0.481862</td>\n",
              "      <td>0.487944</td>\n",
              "      <td>0.501933</td>\n",
              "      <td>...</td>\n",
              "      <td>1.029510</td>\n",
              "      <td>1.088761</td>\n",
              "      <td>1.156077</td>\n",
              "      <td>1.224223</td>\n",
              "      <td>1.285836</td>\n",
              "      <td>1.336290</td>\n",
              "      <td>1.374883</td>\n",
              "      <td>1.403222</td>\n",
              "      <td>1.422556</td>\n",
              "      <td>1.432665</td>\n",
              "    </tr>\n",
              "    <tr>\n",
              "      <th>822</th>\n",
              "      <td>0.779455</td>\n",
              "      <td>0.793393</td>\n",
              "      <td>0.818370</td>\n",
              "      <td>0.849539</td>\n",
              "      <td>0.881552</td>\n",
              "      <td>0.909871</td>\n",
              "      <td>0.931598</td>\n",
              "      <td>0.945877</td>\n",
              "      <td>0.953784</td>\n",
              "      <td>0.957692</td>\n",
              "      <td>...</td>\n",
              "      <td>1.084324</td>\n",
              "      <td>1.086062</td>\n",
              "      <td>1.085023</td>\n",
              "      <td>1.079737</td>\n",
              "      <td>1.070199</td>\n",
              "      <td>1.057752</td>\n",
              "      <td>1.044512</td>\n",
              "      <td>1.032635</td>\n",
              "      <td>1.023799</td>\n",
              "      <td>1.019120</td>\n",
              "    </tr>\n",
              "    <tr>\n",
              "      <th>1306</th>\n",
              "      <td>1.044397</td>\n",
              "      <td>1.046228</td>\n",
              "      <td>1.049355</td>\n",
              "      <td>1.053332</td>\n",
              "      <td>1.058535</td>\n",
              "      <td>1.066340</td>\n",
              "      <td>1.078762</td>\n",
              "      <td>1.097866</td>\n",
              "      <td>1.125078</td>\n",
              "      <td>1.160462</td>\n",
              "      <td>...</td>\n",
              "      <td>0.421586</td>\n",
              "      <td>0.434466</td>\n",
              "      <td>0.450094</td>\n",
              "      <td>0.464791</td>\n",
              "      <td>0.475326</td>\n",
              "      <td>0.479946</td>\n",
              "      <td>0.478823</td>\n",
              "      <td>0.473763</td>\n",
              "      <td>0.467685</td>\n",
              "      <td>0.463643</td>\n",
              "    </tr>\n",
              "    <tr>\n",
              "      <th>931</th>\n",
              "      <td>0.795017</td>\n",
              "      <td>0.792376</td>\n",
              "      <td>0.785653</td>\n",
              "      <td>0.772220</td>\n",
              "      <td>0.748984</td>\n",
              "      <td>0.713555</td>\n",
              "      <td>0.665627</td>\n",
              "      <td>0.607835</td>\n",
              "      <td>0.545549</td>\n",
              "      <td>0.485304</td>\n",
              "      <td>...</td>\n",
              "      <td>2.301105</td>\n",
              "      <td>2.219869</td>\n",
              "      <td>2.113293</td>\n",
              "      <td>1.990647</td>\n",
              "      <td>1.862853</td>\n",
              "      <td>1.740949</td>\n",
              "      <td>1.634365</td>\n",
              "      <td>1.549963</td>\n",
              "      <td>1.491930</td>\n",
              "      <td>1.462445</td>\n",
              "    </tr>\n",
              "    <tr>\n",
              "      <th>818</th>\n",
              "      <td>1.002630</td>\n",
              "      <td>1.001356</td>\n",
              "      <td>1.000260</td>\n",
              "      <td>1.001615</td>\n",
              "      <td>1.007550</td>\n",
              "      <td>1.019130</td>\n",
              "      <td>1.035842</td>\n",
              "      <td>1.055519</td>\n",
              "      <td>1.074753</td>\n",
              "      <td>1.089687</td>\n",
              "      <td>...</td>\n",
              "      <td>0.921649</td>\n",
              "      <td>0.924170</td>\n",
              "      <td>0.929905</td>\n",
              "      <td>0.937778</td>\n",
              "      <td>0.946499</td>\n",
              "      <td>0.954922</td>\n",
              "      <td>0.962213</td>\n",
              "      <td>0.967902</td>\n",
              "      <td>0.971762</td>\n",
              "      <td>0.973709</td>\n",
              "    </tr>\n",
              "    <tr>\n",
              "      <th>928</th>\n",
              "      <td>2.200764</td>\n",
              "      <td>2.173623</td>\n",
              "      <td>2.126295</td>\n",
              "      <td>2.070360</td>\n",
              "      <td>2.018628</td>\n",
              "      <td>1.981444</td>\n",
              "      <td>1.963647</td>\n",
              "      <td>1.963012</td>\n",
              "      <td>1.970741</td>\n",
              "      <td>1.974903</td>\n",
              "      <td>...</td>\n",
              "      <td>0.579661</td>\n",
              "      <td>0.579622</td>\n",
              "      <td>0.578904</td>\n",
              "      <td>0.582901</td>\n",
              "      <td>0.594815</td>\n",
              "      <td>0.614410</td>\n",
              "      <td>0.638452</td>\n",
              "      <td>0.662214</td>\n",
              "      <td>0.681023</td>\n",
              "      <td>0.691365</td>\n",
              "    </tr>\n",
              "    <tr>\n",
              "      <th>411</th>\n",
              "      <td>0.937034</td>\n",
              "      <td>0.936520</td>\n",
              "      <td>0.935989</td>\n",
              "      <td>0.935888</td>\n",
              "      <td>0.935960</td>\n",
              "      <td>0.935075</td>\n",
              "      <td>0.931813</td>\n",
              "      <td>0.925549</td>\n",
              "      <td>0.917227</td>\n",
              "      <td>0.908956</td>\n",
              "      <td>...</td>\n",
              "      <td>1.117583</td>\n",
              "      <td>1.143947</td>\n",
              "      <td>1.175156</td>\n",
              "      <td>1.208724</td>\n",
              "      <td>1.240098</td>\n",
              "      <td>1.264586</td>\n",
              "      <td>1.279731</td>\n",
              "      <td>1.286300</td>\n",
              "      <td>1.287453</td>\n",
              "      <td>1.286863</td>\n",
              "    </tr>\n",
              "    <tr>\n",
              "      <th>1314</th>\n",
              "      <td>0.806845</td>\n",
              "      <td>0.802624</td>\n",
              "      <td>0.795313</td>\n",
              "      <td>0.786756</td>\n",
              "      <td>0.778956</td>\n",
              "      <td>0.773622</td>\n",
              "      <td>0.771921</td>\n",
              "      <td>0.774290</td>\n",
              "      <td>0.780178</td>\n",
              "      <td>0.787778</td>\n",
              "      <td>...</td>\n",
              "      <td>1.016185</td>\n",
              "      <td>1.023745</td>\n",
              "      <td>1.019015</td>\n",
              "      <td>1.002173</td>\n",
              "      <td>0.977166</td>\n",
              "      <td>0.949599</td>\n",
              "      <td>0.924450</td>\n",
              "      <td>0.904853</td>\n",
              "      <td>0.891974</td>\n",
              "      <td>0.885719</td>\n",
              "    </tr>\n",
              "    <tr>\n",
              "      <th>1022</th>\n",
              "      <td>1.123832</td>\n",
              "      <td>1.084909</td>\n",
              "      <td>1.014502</td>\n",
              "      <td>0.924332</td>\n",
              "      <td>0.826366</td>\n",
              "      <td>0.730293</td>\n",
              "      <td>0.642705</td>\n",
              "      <td>0.567262</td>\n",
              "      <td>0.504866</td>\n",
              "      <td>0.454653</td>\n",
              "      <td>...</td>\n",
              "      <td>1.435200</td>\n",
              "      <td>1.434302</td>\n",
              "      <td>1.455461</td>\n",
              "      <td>1.491288</td>\n",
              "      <td>1.534769</td>\n",
              "      <td>1.582462</td>\n",
              "      <td>1.633223</td>\n",
              "      <td>1.683738</td>\n",
              "      <td>1.726278</td>\n",
              "      <td>1.751064</td>\n",
              "    </tr>\n",
              "    <tr>\n",
              "      <th>...</th>\n",
              "      <td>...</td>\n",
              "      <td>...</td>\n",
              "      <td>...</td>\n",
              "      <td>...</td>\n",
              "      <td>...</td>\n",
              "      <td>...</td>\n",
              "      <td>...</td>\n",
              "      <td>...</td>\n",
              "      <td>...</td>\n",
              "      <td>...</td>\n",
              "      <td>...</td>\n",
              "      <td>...</td>\n",
              "      <td>...</td>\n",
              "      <td>...</td>\n",
              "      <td>...</td>\n",
              "      <td>...</td>\n",
              "      <td>...</td>\n",
              "      <td>...</td>\n",
              "      <td>...</td>\n",
              "      <td>...</td>\n",
              "      <td>...</td>\n",
              "    </tr>\n",
              "    <tr>\n",
              "      <th>420</th>\n",
              "      <td>0.354852</td>\n",
              "      <td>0.365744</td>\n",
              "      <td>0.387676</td>\n",
              "      <td>0.420626</td>\n",
              "      <td>0.464047</td>\n",
              "      <td>0.516952</td>\n",
              "      <td>0.579332</td>\n",
              "      <td>0.653875</td>\n",
              "      <td>0.746943</td>\n",
              "      <td>0.866478</td>\n",
              "      <td>...</td>\n",
              "      <td>0.661616</td>\n",
              "      <td>0.728539</td>\n",
              "      <td>0.789757</td>\n",
              "      <td>0.834143</td>\n",
              "      <td>0.854529</td>\n",
              "      <td>0.849417</td>\n",
              "      <td>0.823169</td>\n",
              "      <td>0.785472</td>\n",
              "      <td>0.749280</td>\n",
              "      <td>0.727212</td>\n",
              "    </tr>\n",
              "    <tr>\n",
              "      <th>1113</th>\n",
              "      <td>1.087853</td>\n",
              "      <td>1.065569</td>\n",
              "      <td>1.033374</td>\n",
              "      <td>1.010066</td>\n",
              "      <td>1.012329</td>\n",
              "      <td>1.046186</td>\n",
              "      <td>1.104185</td>\n",
              "      <td>1.169813</td>\n",
              "      <td>1.230219</td>\n",
              "      <td>1.288805</td>\n",
              "      <td>...</td>\n",
              "      <td>0.132361</td>\n",
              "      <td>0.148893</td>\n",
              "      <td>0.232762</td>\n",
              "      <td>0.394042</td>\n",
              "      <td>0.636075</td>\n",
              "      <td>0.947213</td>\n",
              "      <td>1.296103</td>\n",
              "      <td>1.633907</td>\n",
              "      <td>1.903680</td>\n",
              "      <td>2.053929</td>\n",
              "    </tr>\n",
              "    <tr>\n",
              "      <th>803</th>\n",
              "      <td>1.794480</td>\n",
              "      <td>1.764863</td>\n",
              "      <td>1.701751</td>\n",
              "      <td>1.601022</td>\n",
              "      <td>1.463557</td>\n",
              "      <td>1.300178</td>\n",
              "      <td>1.132936</td>\n",
              "      <td>0.990600</td>\n",
              "      <td>0.897714</td>\n",
              "      <td>0.862232</td>\n",
              "      <td>...</td>\n",
              "      <td>0.606173</td>\n",
              "      <td>0.501331</td>\n",
              "      <td>0.480648</td>\n",
              "      <td>0.529487</td>\n",
              "      <td>0.633304</td>\n",
              "      <td>0.782203</td>\n",
              "      <td>0.965405</td>\n",
              "      <td>1.161087</td>\n",
              "      <td>1.331299</td>\n",
              "      <td>1.431789</td>\n",
              "    </tr>\n",
              "    <tr>\n",
              "      <th>913</th>\n",
              "      <td>0.558103</td>\n",
              "      <td>0.536155</td>\n",
              "      <td>0.499007</td>\n",
              "      <td>0.458523</td>\n",
              "      <td>0.429896</td>\n",
              "      <td>0.430263</td>\n",
              "      <td>0.477408</td>\n",
              "      <td>0.586719</td>\n",
              "      <td>0.765199</td>\n",
              "      <td>1.003776</td>\n",
              "      <td>...</td>\n",
              "      <td>1.053770</td>\n",
              "      <td>1.022858</td>\n",
              "      <td>1.003582</td>\n",
              "      <td>1.004045</td>\n",
              "      <td>1.028416</td>\n",
              "      <td>1.074117</td>\n",
              "      <td>1.131990</td>\n",
              "      <td>1.189594</td>\n",
              "      <td>1.235139</td>\n",
              "      <td>1.260078</td>\n",
              "    </tr>\n",
              "    <tr>\n",
              "      <th>1319</th>\n",
              "      <td>0.538678</td>\n",
              "      <td>0.546880</td>\n",
              "      <td>0.556939</td>\n",
              "      <td>0.558201</td>\n",
              "      <td>0.539519</td>\n",
              "      <td>0.493604</td>\n",
              "      <td>0.421185</td>\n",
              "      <td>0.332172</td>\n",
              "      <td>0.243518</td>\n",
              "      <td>0.173694</td>\n",
              "      <td>...</td>\n",
              "      <td>1.654250</td>\n",
              "      <td>1.578384</td>\n",
              "      <td>1.521955</td>\n",
              "      <td>1.511134</td>\n",
              "      <td>1.570760</td>\n",
              "      <td>1.712539</td>\n",
              "      <td>1.924692</td>\n",
              "      <td>2.168256</td>\n",
              "      <td>2.384094</td>\n",
              "      <td>2.511576</td>\n",
              "    </tr>\n",
              "    <tr>\n",
              "      <th>1019</th>\n",
              "      <td>1.253478</td>\n",
              "      <td>1.183275</td>\n",
              "      <td>1.058087</td>\n",
              "      <td>0.902723</td>\n",
              "      <td>0.744030</td>\n",
              "      <td>0.604461</td>\n",
              "      <td>0.499242</td>\n",
              "      <td>0.436081</td>\n",
              "      <td>0.416441</td>\n",
              "      <td>0.436707</td>\n",
              "      <td>...</td>\n",
              "      <td>0.981177</td>\n",
              "      <td>0.987483</td>\n",
              "      <td>1.047018</td>\n",
              "      <td>1.149782</td>\n",
              "      <td>1.276418</td>\n",
              "      <td>1.406213</td>\n",
              "      <td>1.523075</td>\n",
              "      <td>1.617041</td>\n",
              "      <td>1.682553</td>\n",
              "      <td>1.716237</td>\n",
              "    </tr>\n",
              "    <tr>\n",
              "      <th>616</th>\n",
              "      <td>0.218308</td>\n",
              "      <td>0.207849</td>\n",
              "      <td>0.189696</td>\n",
              "      <td>0.168322</td>\n",
              "      <td>0.148389</td>\n",
              "      <td>0.133319</td>\n",
              "      <td>0.124423</td>\n",
              "      <td>0.120911</td>\n",
              "      <td>0.120607</td>\n",
              "      <td>0.121054</td>\n",
              "      <td>...</td>\n",
              "      <td>3.518814</td>\n",
              "      <td>3.902288</td>\n",
              "      <td>4.213457</td>\n",
              "      <td>4.443922</td>\n",
              "      <td>4.601845</td>\n",
              "      <td>4.708331</td>\n",
              "      <td>4.786577</td>\n",
              "      <td>4.850736</td>\n",
              "      <td>4.901552</td>\n",
              "      <td>4.930875</td>\n",
              "    </tr>\n",
              "    <tr>\n",
              "      <th>827</th>\n",
              "      <td>0.084978</td>\n",
              "      <td>0.079888</td>\n",
              "      <td>0.070817</td>\n",
              "      <td>0.059647</td>\n",
              "      <td>0.048620</td>\n",
              "      <td>0.039861</td>\n",
              "      <td>0.034992</td>\n",
              "      <td>0.034928</td>\n",
              "      <td>0.039822</td>\n",
              "      <td>0.049346</td>\n",
              "      <td>...</td>\n",
              "      <td>3.157698</td>\n",
              "      <td>3.109280</td>\n",
              "      <td>3.035284</td>\n",
              "      <td>2.954984</td>\n",
              "      <td>2.886055</td>\n",
              "      <td>2.839399</td>\n",
              "      <td>2.816683</td>\n",
              "      <td>2.811991</td>\n",
              "      <td>2.815982</td>\n",
              "      <td>2.820382</td>\n",
              "    </tr>\n",
              "    <tr>\n",
              "      <th>516</th>\n",
              "      <td>0.850137</td>\n",
              "      <td>0.831071</td>\n",
              "      <td>0.802444</td>\n",
              "      <td>0.779553</td>\n",
              "      <td>0.778177</td>\n",
              "      <td>0.810526</td>\n",
              "      <td>0.883664</td>\n",
              "      <td>0.999919</td>\n",
              "      <td>1.157562</td>\n",
              "      <td>1.350274</td>\n",
              "      <td>...</td>\n",
              "      <td>0.274093</td>\n",
              "      <td>0.236545</td>\n",
              "      <td>0.254392</td>\n",
              "      <td>0.331157</td>\n",
              "      <td>0.458955</td>\n",
              "      <td>0.620116</td>\n",
              "      <td>0.790966</td>\n",
              "      <td>0.946502</td>\n",
              "      <td>1.064395</td>\n",
              "      <td>1.127855</td>\n",
              "    </tr>\n",
              "    <tr>\n",
              "      <th>1316</th>\n",
              "      <td>0.519253</td>\n",
              "      <td>0.483880</td>\n",
              "      <td>0.419981</td>\n",
              "      <td>0.339069</td>\n",
              "      <td>0.254025</td>\n",
              "      <td>0.176256</td>\n",
              "      <td>0.114104</td>\n",
              "      <td>0.072643</td>\n",
              "      <td>0.055134</td>\n",
              "      <td>0.065185</td>\n",
              "      <td>...</td>\n",
              "      <td>0.411178</td>\n",
              "      <td>0.298355</td>\n",
              "      <td>0.210265</td>\n",
              "      <td>0.161828</td>\n",
              "      <td>0.160925</td>\n",
              "      <td>0.206396</td>\n",
              "      <td>0.287866</td>\n",
              "      <td>0.385733</td>\n",
              "      <td>0.473800</td>\n",
              "      <td>0.526125</td>\n",
              "    </tr>\n",
              "    <tr>\n",
              "      <th>1035</th>\n",
              "      <td>2.784513</td>\n",
              "      <td>2.516316</td>\n",
              "      <td>2.055776</td>\n",
              "      <td>1.518845</td>\n",
              "      <td>1.014303</td>\n",
              "      <td>0.611150</td>\n",
              "      <td>0.331178</td>\n",
              "      <td>0.160732</td>\n",
              "      <td>0.069567</td>\n",
              "      <td>0.026759</td>\n",
              "      <td>...</td>\n",
              "      <td>0.658884</td>\n",
              "      <td>1.130441</td>\n",
              "      <td>1.768339</td>\n",
              "      <td>2.538632</td>\n",
              "      <td>3.379041</td>\n",
              "      <td>4.222070</td>\n",
              "      <td>5.011989</td>\n",
              "      <td>5.698378</td>\n",
              "      <td>6.219662</td>\n",
              "      <td>6.505508</td>\n",
              "    </tr>\n",
              "    <tr>\n",
              "      <th>933</th>\n",
              "      <td>1.908872</td>\n",
              "      <td>1.951115</td>\n",
              "      <td>2.014795</td>\n",
              "      <td>2.060265</td>\n",
              "      <td>2.038008</td>\n",
              "      <td>1.906901</td>\n",
              "      <td>1.655533</td>\n",
              "      <td>1.313191</td>\n",
              "      <td>0.940642</td>\n",
              "      <td>0.603708</td>\n",
              "      <td>...</td>\n",
              "      <td>1.053857</td>\n",
              "      <td>1.202682</td>\n",
              "      <td>1.345773</td>\n",
              "      <td>1.492946</td>\n",
              "      <td>1.668494</td>\n",
              "      <td>1.888027</td>\n",
              "      <td>2.144327</td>\n",
              "      <td>2.403471</td>\n",
              "      <td>2.617178</td>\n",
              "      <td>2.738499</td>\n",
              "    </tr>\n",
              "    <tr>\n",
              "      <th>1021</th>\n",
              "      <td>2.591345</td>\n",
              "      <td>2.527773</td>\n",
              "      <td>2.411311</td>\n",
              "      <td>2.258743</td>\n",
              "      <td>2.086132</td>\n",
              "      <td>1.903358</td>\n",
              "      <td>1.712468</td>\n",
              "      <td>1.510927</td>\n",
              "      <td>1.298384</td>\n",
              "      <td>1.082715</td>\n",
              "      <td>...</td>\n",
              "      <td>1.485540</td>\n",
              "      <td>1.525734</td>\n",
              "      <td>1.527528</td>\n",
              "      <td>1.490843</td>\n",
              "      <td>1.419867</td>\n",
              "      <td>1.323364</td>\n",
              "      <td>1.214685</td>\n",
              "      <td>1.110403</td>\n",
              "      <td>1.028000</td>\n",
              "      <td>0.982432</td>\n",
              "    </tr>\n",
              "    <tr>\n",
              "      <th>603</th>\n",
              "      <td>3.448537</td>\n",
              "      <td>3.435704</td>\n",
              "      <td>3.412826</td>\n",
              "      <td>3.383812</td>\n",
              "      <td>3.350965</td>\n",
              "      <td>3.311559</td>\n",
              "      <td>3.256049</td>\n",
              "      <td>3.170129</td>\n",
              "      <td>3.040927</td>\n",
              "      <td>2.864257</td>\n",
              "      <td>...</td>\n",
              "      <td>0.051589</td>\n",
              "      <td>0.065111</td>\n",
              "      <td>0.081891</td>\n",
              "      <td>0.103200</td>\n",
              "      <td>0.130793</td>\n",
              "      <td>0.165507</td>\n",
              "      <td>0.205668</td>\n",
              "      <td>0.246366</td>\n",
              "      <td>0.280195</td>\n",
              "      <td>0.299547</td>\n",
              "    </tr>\n",
              "    <tr>\n",
              "      <th>526</th>\n",
              "      <td>1.160264</td>\n",
              "      <td>1.151419</td>\n",
              "      <td>1.140441</td>\n",
              "      <td>1.138781</td>\n",
              "      <td>1.159263</td>\n",
              "      <td>1.212462</td>\n",
              "      <td>1.301970</td>\n",
              "      <td>1.418017</td>\n",
              "      <td>1.533705</td>\n",
              "      <td>1.609600</td>\n",
              "      <td>...</td>\n",
              "      <td>0.539803</td>\n",
              "      <td>0.551396</td>\n",
              "      <td>0.648258</td>\n",
              "      <td>0.838098</td>\n",
              "      <td>1.106484</td>\n",
              "      <td>1.418619</td>\n",
              "      <td>1.729745</td>\n",
              "      <td>1.997814</td>\n",
              "      <td>2.191691</td>\n",
              "      <td>2.292768</td>\n",
              "    </tr>\n",
              "    <tr>\n",
              "      <th>613</th>\n",
              "      <td>1.349159</td>\n",
              "      <td>1.415904</td>\n",
              "      <td>1.554342</td>\n",
              "      <td>1.767524</td>\n",
              "      <td>2.048924</td>\n",
              "      <td>2.379292</td>\n",
              "      <td>2.729010</td>\n",
              "      <td>3.061865</td>\n",
              "      <td>3.336170</td>\n",
              "      <td>3.505913</td>\n",
              "      <td>...</td>\n",
              "      <td>0.009087</td>\n",
              "      <td>0.024219</td>\n",
              "      <td>0.057890</td>\n",
              "      <td>0.123881</td>\n",
              "      <td>0.237111</td>\n",
              "      <td>0.406090</td>\n",
              "      <td>0.623237</td>\n",
              "      <td>0.858542</td>\n",
              "      <td>1.062696</td>\n",
              "      <td>1.182342</td>\n",
              "    </tr>\n",
              "    <tr>\n",
              "      <th>123</th>\n",
              "      <td>2.335167</td>\n",
              "      <td>2.110250</td>\n",
              "      <td>1.724028</td>\n",
              "      <td>1.273744</td>\n",
              "      <td>0.850622</td>\n",
              "      <td>0.512527</td>\n",
              "      <td>0.278198</td>\n",
              "      <td>0.136515</td>\n",
              "      <td>0.064025</td>\n",
              "      <td>0.039088</td>\n",
              "      <td>...</td>\n",
              "      <td>0.031304</td>\n",
              "      <td>0.083437</td>\n",
              "      <td>0.199435</td>\n",
              "      <td>0.426775</td>\n",
              "      <td>0.816860</td>\n",
              "      <td>1.399001</td>\n",
              "      <td>2.147081</td>\n",
              "      <td>2.957721</td>\n",
              "      <td>3.661040</td>\n",
              "      <td>4.073228</td>\n",
              "    </tr>\n",
              "    <tr>\n",
              "      <th>527</th>\n",
              "      <td>1.579188</td>\n",
              "      <td>1.625304</td>\n",
              "      <td>1.716271</td>\n",
              "      <td>1.846498</td>\n",
              "      <td>2.002651</td>\n",
              "      <td>2.164018</td>\n",
              "      <td>2.304082</td>\n",
              "      <td>2.391677</td>\n",
              "      <td>2.392951</td>\n",
              "      <td>2.279404</td>\n",
              "      <td>...</td>\n",
              "      <td>0.525793</td>\n",
              "      <td>0.671174</td>\n",
              "      <td>0.803141</td>\n",
              "      <td>0.905508</td>\n",
              "      <td>0.969186</td>\n",
              "      <td>0.996459</td>\n",
              "      <td>0.999466</td>\n",
              "      <td>0.992908</td>\n",
              "      <td>0.986811</td>\n",
              "      <td>0.984121</td>\n",
              "    </tr>\n",
              "    <tr>\n",
              "      <th>935</th>\n",
              "      <td>3.518158</td>\n",
              "      <td>3.340052</td>\n",
              "      <td>3.060496</td>\n",
              "      <td>2.782570</td>\n",
              "      <td>2.571871</td>\n",
              "      <td>2.421449</td>\n",
              "      <td>2.265465</td>\n",
              "      <td>2.031240</td>\n",
              "      <td>1.689925</td>\n",
              "      <td>1.279685</td>\n",
              "      <td>...</td>\n",
              "      <td>0.042746</td>\n",
              "      <td>0.113933</td>\n",
              "      <td>0.272330</td>\n",
              "      <td>0.582765</td>\n",
              "      <td>1.115429</td>\n",
              "      <td>1.910348</td>\n",
              "      <td>2.931856</td>\n",
              "      <td>4.038792</td>\n",
              "      <td>4.999181</td>\n",
              "      <td>5.562026</td>\n",
              "    </tr>\n",
              "    <tr>\n",
              "      <th>102</th>\n",
              "      <td>1.284496</td>\n",
              "      <td>1.212514</td>\n",
              "      <td>1.093376</td>\n",
              "      <td>0.969890</td>\n",
              "      <td>0.890524</td>\n",
              "      <td>0.893344</td>\n",
              "      <td>0.990106</td>\n",
              "      <td>1.155751</td>\n",
              "      <td>1.332121</td>\n",
              "      <td>1.450654</td>\n",
              "      <td>...</td>\n",
              "      <td>1.493249</td>\n",
              "      <td>1.262822</td>\n",
              "      <td>1.052558</td>\n",
              "      <td>0.887767</td>\n",
              "      <td>0.781250</td>\n",
              "      <td>0.737725</td>\n",
              "      <td>0.753722</td>\n",
              "      <td>0.812799</td>\n",
              "      <td>0.884279</td>\n",
              "      <td>0.932204</td>\n",
              "    </tr>\n",
              "    <tr>\n",
              "      <th>614</th>\n",
              "      <td>8.250497</td>\n",
              "      <td>7.898519</td>\n",
              "      <td>7.257262</td>\n",
              "      <td>6.428595</td>\n",
              "      <td>5.521376</td>\n",
              "      <td>4.625685</td>\n",
              "      <td>3.801387</td>\n",
              "      <td>3.078109</td>\n",
              "      <td>2.462028</td>\n",
              "      <td>1.944770</td>\n",
              "      <td>...</td>\n",
              "      <td>0.132736</td>\n",
              "      <td>0.087027</td>\n",
              "      <td>0.057063</td>\n",
              "      <td>0.045280</td>\n",
              "      <td>0.051545</td>\n",
              "      <td>0.073861</td>\n",
              "      <td>0.108037</td>\n",
              "      <td>0.147060</td>\n",
              "      <td>0.181493</td>\n",
              "      <td>0.201784</td>\n",
              "    </tr>\n",
              "    <tr>\n",
              "      <th>829</th>\n",
              "      <td>1.955520</td>\n",
              "      <td>2.001147</td>\n",
              "      <td>2.080932</td>\n",
              "      <td>2.173254</td>\n",
              "      <td>2.252963</td>\n",
              "      <td>2.300858</td>\n",
              "      <td>2.313216</td>\n",
              "      <td>2.303247</td>\n",
              "      <td>2.292049</td>\n",
              "      <td>2.292031</td>\n",
              "      <td>...</td>\n",
              "      <td>0.012413</td>\n",
              "      <td>0.033085</td>\n",
              "      <td>0.079081</td>\n",
              "      <td>0.169228</td>\n",
              "      <td>0.323907</td>\n",
              "      <td>0.554741</td>\n",
              "      <td>0.851375</td>\n",
              "      <td>1.172815</td>\n",
              "      <td>1.451700</td>\n",
              "      <td>1.615143</td>\n",
              "    </tr>\n",
              "    <tr>\n",
              "      <th>1028</th>\n",
              "      <td>1.289951</td>\n",
              "      <td>1.165706</td>\n",
              "      <td>0.952811</td>\n",
              "      <td>0.705284</td>\n",
              "      <td>0.475386</td>\n",
              "      <td>0.299473</td>\n",
              "      <td>0.197015</td>\n",
              "      <td>0.178268</td>\n",
              "      <td>0.252092</td>\n",
              "      <td>0.425224</td>\n",
              "      <td>...</td>\n",
              "      <td>0.093193</td>\n",
              "      <td>0.079276</td>\n",
              "      <td>0.123147</td>\n",
              "      <td>0.240284</td>\n",
              "      <td>0.452647</td>\n",
              "      <td>0.773204</td>\n",
              "      <td>1.186051</td>\n",
              "      <td>1.633850</td>\n",
              "      <td>2.022366</td>\n",
              "      <td>2.250059</td>\n",
              "    </tr>\n",
              "    <tr>\n",
              "      <th>518</th>\n",
              "      <td>4.193598</td>\n",
              "      <td>4.292413</td>\n",
              "      <td>4.472254</td>\n",
              "      <td>4.691180</td>\n",
              "      <td>4.878991</td>\n",
              "      <td>4.946100</td>\n",
              "      <td>4.811499</td>\n",
              "      <td>4.440560</td>\n",
              "      <td>3.870935</td>\n",
              "      <td>3.203380</td>\n",
              "      <td>...</td>\n",
              "      <td>0.173266</td>\n",
              "      <td>0.180249</td>\n",
              "      <td>0.189413</td>\n",
              "      <td>0.205560</td>\n",
              "      <td>0.230328</td>\n",
              "      <td>0.262116</td>\n",
              "      <td>0.297348</td>\n",
              "      <td>0.331383</td>\n",
              "      <td>0.358853</td>\n",
              "      <td>0.374354</td>\n",
              "    </tr>\n",
              "    <tr>\n",
              "      <th>808</th>\n",
              "      <td>2.765724</td>\n",
              "      <td>2.499337</td>\n",
              "      <td>2.041904</td>\n",
              "      <td>1.508597</td>\n",
              "      <td>1.007459</td>\n",
              "      <td>0.607026</td>\n",
              "      <td>0.328944</td>\n",
              "      <td>0.159648</td>\n",
              "      <td>0.069097</td>\n",
              "      <td>0.026578</td>\n",
              "      <td>...</td>\n",
              "      <td>0.064580</td>\n",
              "      <td>0.108450</td>\n",
              "      <td>0.239222</td>\n",
              "      <td>0.506307</td>\n",
              "      <td>0.967472</td>\n",
              "      <td>1.656949</td>\n",
              "      <td>2.542958</td>\n",
              "      <td>3.503064</td>\n",
              "      <td>4.336061</td>\n",
              "      <td>4.824247</td>\n",
              "    </tr>\n",
              "    <tr>\n",
              "      <th>510</th>\n",
              "      <td>4.686767</td>\n",
              "      <td>4.235351</td>\n",
              "      <td>3.460189</td>\n",
              "      <td>2.556452</td>\n",
              "      <td>1.707229</td>\n",
              "      <td>1.028661</td>\n",
              "      <td>0.557425</td>\n",
              "      <td>0.270537</td>\n",
              "      <td>0.117092</td>\n",
              "      <td>0.045039</td>\n",
              "      <td>...</td>\n",
              "      <td>2.129201</td>\n",
              "      <td>2.080110</td>\n",
              "      <td>1.899681</td>\n",
              "      <td>1.720220</td>\n",
              "      <td>1.695777</td>\n",
              "      <td>1.933962</td>\n",
              "      <td>2.441178</td>\n",
              "      <td>3.107466</td>\n",
              "      <td>3.736537</td>\n",
              "      <td>4.119015</td>\n",
              "    </tr>\n",
              "    <tr>\n",
              "      <th>826</th>\n",
              "      <td>7.441403</td>\n",
              "      <td>6.934473</td>\n",
              "      <td>6.018728</td>\n",
              "      <td>4.858408</td>\n",
              "      <td>3.636753</td>\n",
              "      <td>2.512606</td>\n",
              "      <td>1.592177</td>\n",
              "      <td>0.918682</td>\n",
              "      <td>0.479188</td>\n",
              "      <td>0.224580</td>\n",
              "      <td>...</td>\n",
              "      <td>0.057891</td>\n",
              "      <td>0.154299</td>\n",
              "      <td>0.368815</td>\n",
              "      <td>0.789236</td>\n",
              "      <td>1.510620</td>\n",
              "      <td>2.587175</td>\n",
              "      <td>3.970599</td>\n",
              "      <td>5.469716</td>\n",
              "      <td>6.770366</td>\n",
              "      <td>7.532625</td>\n",
              "    </tr>\n",
              "    <tr>\n",
              "      <th>129</th>\n",
              "      <td>3.276112</td>\n",
              "      <td>3.102803</td>\n",
              "      <td>2.789616</td>\n",
              "      <td>2.388123</td>\n",
              "      <td>1.949383</td>\n",
              "      <td>1.513512</td>\n",
              "      <td>1.109670</td>\n",
              "      <td>0.759897</td>\n",
              "      <td>0.479904</td>\n",
              "      <td>0.276398</td>\n",
              "      <td>...</td>\n",
              "      <td>0.039265</td>\n",
              "      <td>0.104655</td>\n",
              "      <td>0.250153</td>\n",
              "      <td>0.535307</td>\n",
              "      <td>1.024593</td>\n",
              "      <td>1.754777</td>\n",
              "      <td>2.693098</td>\n",
              "      <td>3.709890</td>\n",
              "      <td>4.592069</td>\n",
              "      <td>5.109078</td>\n",
              "    </tr>\n",
              "    <tr>\n",
              "      <th>1039</th>\n",
              "      <td>0.308901</td>\n",
              "      <td>0.279454</td>\n",
              "      <td>0.229230</td>\n",
              "      <td>0.172279</td>\n",
              "      <td>0.123365</td>\n",
              "      <td>0.095634</td>\n",
              "      <td>0.101145</td>\n",
              "      <td>0.152066</td>\n",
              "      <td>0.259212</td>\n",
              "      <td>0.426163</td>\n",
              "      <td>...</td>\n",
              "      <td>0.339450</td>\n",
              "      <td>0.688756</td>\n",
              "      <td>1.275918</td>\n",
              "      <td>2.163316</td>\n",
              "      <td>3.366668</td>\n",
              "      <td>4.828040</td>\n",
              "      <td>6.408676</td>\n",
              "      <td>7.904860</td>\n",
              "      <td>9.083601</td>\n",
              "      <td>9.735829</td>\n",
              "    </tr>\n",
              "    <tr>\n",
              "      <th>1118</th>\n",
              "      <td>5.949366</td>\n",
              "      <td>5.376340</td>\n",
              "      <td>4.392352</td>\n",
              "      <td>3.245151</td>\n",
              "      <td>2.167150</td>\n",
              "      <td>1.305778</td>\n",
              "      <td>0.707593</td>\n",
              "      <td>0.343419</td>\n",
              "      <td>0.148636</td>\n",
              "      <td>0.057173</td>\n",
              "      <td>...</td>\n",
              "      <td>0.079754</td>\n",
              "      <td>0.212574</td>\n",
              "      <td>0.508106</td>\n",
              "      <td>1.087306</td>\n",
              "      <td>2.081135</td>\n",
              "      <td>3.564272</td>\n",
              "      <td>5.470173</td>\n",
              "      <td>7.535461</td>\n",
              "      <td>9.327327</td>\n",
              "      <td>10.377467</td>\n",
              "    </tr>\n",
              "  </tbody>\n",
              "</table>\n",
              "<p>136 rows × 64 columns</p>\n",
              "</div>"
            ],
            "text/plain": [
              "Location on Track (m)     0.209     0.228     0.247     0.266     0.284  \\\n",
              "Cell ID                                                                   \n",
              "609                    0.812220  0.815435  0.822331  0.833559  0.849670   \n",
              "529                    5.298351  4.843605  4.080427  3.228223  2.481061   \n",
              "1209                   1.023071  1.018041  1.009526  0.999682  0.990187   \n",
              "416                    1.348601  1.316223  1.261954  1.202440  1.154672   \n",
              "828                    0.515027  0.517703  0.524011  0.535567  0.554330   \n",
              "119                    0.869344  0.871190  0.875908  0.884765  0.898304   \n",
              "410                    1.006986  1.008122  1.010146  1.012498  1.014480   \n",
              "537                    1.005536  1.003066  0.999381  0.996215  0.994808   \n",
              "615                    2.781739  2.768503  2.741713  2.700918  2.645488   \n",
              "819                    0.357549  0.363859  0.377884  0.402233  0.440257   \n",
              "305                    2.779696  2.765482  2.731523  2.669324  2.571192   \n",
              "930                    0.875062  0.876866  0.879303  0.880700  0.879823   \n",
              "103                    0.947525  0.945904  0.943228  0.940157  0.936934   \n",
              "1303                   0.941869  0.935484  0.923689  0.907966  0.889923   \n",
              "532                    7.596396  7.438744  7.129414  6.677987  6.096818   \n",
              "121                    2.422940  2.403349  2.361496  2.294342  2.201416   \n",
              "403                    1.201455  1.180727  1.143936  1.099562  1.058533   \n",
              "927                    5.299100  5.282110  5.242446  5.168655  5.044528   \n",
              "417                    2.215184  2.195800  2.157728  2.102067  2.030288   \n",
              "920                    0.747258  0.742697  0.735770  0.729665  0.727000   \n",
              "422                    1.998780  1.938887  1.852703  1.786166  1.768006   \n",
              "1305                   0.692039  0.667004  0.624413  0.575899  0.532649   \n",
              "822                    0.779455  0.793393  0.818370  0.849539  0.881552   \n",
              "1306                   1.044397  1.046228  1.049355  1.053332  1.058535   \n",
              "931                    0.795017  0.792376  0.785653  0.772220  0.748984   \n",
              "818                    1.002630  1.001356  1.000260  1.001615  1.007550   \n",
              "928                    2.200764  2.173623  2.126295  2.070360  2.018628   \n",
              "411                    0.937034  0.936520  0.935989  0.935888  0.935960   \n",
              "1314                   0.806845  0.802624  0.795313  0.786756  0.778956   \n",
              "1022                   1.123832  1.084909  1.014502  0.924332  0.826366   \n",
              "...                         ...       ...       ...       ...       ...   \n",
              "420                    0.354852  0.365744  0.387676  0.420626  0.464047   \n",
              "1113                   1.087853  1.065569  1.033374  1.010066  1.012329   \n",
              "803                    1.794480  1.764863  1.701751  1.601022  1.463557   \n",
              "913                    0.558103  0.536155  0.499007  0.458523  0.429896   \n",
              "1319                   0.538678  0.546880  0.556939  0.558201  0.539519   \n",
              "1019                   1.253478  1.183275  1.058087  0.902723  0.744030   \n",
              "616                    0.218308  0.207849  0.189696  0.168322  0.148389   \n",
              "827                    0.084978  0.079888  0.070817  0.059647  0.048620   \n",
              "516                    0.850137  0.831071  0.802444  0.779553  0.778177   \n",
              "1316                   0.519253  0.483880  0.419981  0.339069  0.254025   \n",
              "1035                   2.784513  2.516316  2.055776  1.518845  1.014303   \n",
              "933                    1.908872  1.951115  2.014795  2.060265  2.038008   \n",
              "1021                   2.591345  2.527773  2.411311  2.258743  2.086132   \n",
              "603                    3.448537  3.435704  3.412826  3.383812  3.350965   \n",
              "526                    1.160264  1.151419  1.140441  1.138781  1.159263   \n",
              "613                    1.349159  1.415904  1.554342  1.767524  2.048924   \n",
              "123                    2.335167  2.110250  1.724028  1.273744  0.850622   \n",
              "527                    1.579188  1.625304  1.716271  1.846498  2.002651   \n",
              "935                    3.518158  3.340052  3.060496  2.782570  2.571871   \n",
              "102                    1.284496  1.212514  1.093376  0.969890  0.890524   \n",
              "614                    8.250497  7.898519  7.257262  6.428595  5.521376   \n",
              "829                    1.955520  2.001147  2.080932  2.173254  2.252963   \n",
              "1028                   1.289951  1.165706  0.952811  0.705284  0.475386   \n",
              "518                    4.193598  4.292413  4.472254  4.691180  4.878991   \n",
              "808                    2.765724  2.499337  2.041904  1.508597  1.007459   \n",
              "510                    4.686767  4.235351  3.460189  2.556452  1.707229   \n",
              "826                    7.441403  6.934473  6.018728  4.858408  3.636753   \n",
              "129                    3.276112  3.102803  2.789616  2.388123  1.949383   \n",
              "1039                   0.308901  0.279454  0.229230  0.172279  0.123365   \n",
              "1118                   5.949366  5.376340  4.392352  3.245151  2.167150   \n",
              "\n",
              "Location on Track (m)     0.303     0.322     0.341     0.359     0.378  \\\n",
              "Cell ID                                                                   \n",
              "609                    0.870996  0.897712  0.929831  0.966890  1.007379   \n",
              "529                    1.938446  1.592698  1.364952  1.165586  0.943214   \n",
              "1209                   0.981730  0.974369  0.968336  0.964546  0.964247   \n",
              "416                    1.132191  1.143764  1.193765  1.282779  1.406727   \n",
              "828                    0.582265  0.621041  0.671396  0.732120  0.799132   \n",
              "119                    0.915793  0.935362  0.954700  0.971829  0.985538   \n",
              "410                    1.015542  1.015932  1.017219  1.022152  1.033270   \n",
              "537                    0.995330  0.997001  0.998711  0.999617  0.999319   \n",
              "615                    2.574350  2.485822  2.378379  2.251816  2.108665   \n",
              "819                    0.495369  0.570517  0.667717  0.787608  0.928307   \n",
              "305                    2.433223  2.257029  2.050083  1.824907  1.597294   \n",
              "930                    0.876528  0.871796  0.867169  0.863851  0.861991   \n",
              "103                    0.933136  0.927922  0.920598  0.911170  0.900562   \n",
              "1303                   0.871558  0.855974  0.847830  0.852617  0.874414   \n",
              "532                    5.403411  4.625496  3.803856  2.989618  2.236019   \n",
              "121                    2.086294  1.956031  1.819364  1.684728  1.559044   \n",
              "403                    1.032316  1.030260  1.056816  1.109118  1.176416   \n",
              "927                    4.852011  4.576265  4.211681  3.766954  3.267095   \n",
              "417                    1.944668  1.848793  1.747371  1.644783  1.543457   \n",
              "920                    0.728766  0.734288  0.742039  0.750754  0.760118   \n",
              "422                    1.789062  1.802318  1.746298  1.579609  1.307105   \n",
              "1305                   0.501823  0.485489  0.481862  0.487944  0.501933   \n",
              "822                    0.909871  0.931598  0.945877  0.953784  0.957692   \n",
              "1306                   1.066340  1.078762  1.097866  1.125078  1.160462   \n",
              "931                    0.713555  0.665627  0.607835  0.545549  0.485304   \n",
              "818                    1.019130  1.035842  1.055519  1.074753  1.089687   \n",
              "928                    1.981444  1.963647  1.963012  1.970741  1.974903   \n",
              "411                    0.935075  0.931813  0.925549  0.917227  0.908956   \n",
              "1314                   0.773622  0.771921  0.774290  0.780178  0.787778   \n",
              "1022                   0.730293  0.642705  0.567262  0.504866  0.454653   \n",
              "...                         ...       ...       ...       ...       ...   \n",
              "420                    0.516952  0.579332  0.653875  0.746943  0.866478   \n",
              "1113                   1.046186  1.104185  1.169813  1.230219  1.288805   \n",
              "803                    1.300178  1.132936  0.990600  0.897714  0.862232   \n",
              "913                    0.430263  0.477408  0.586719  0.765199  1.003776   \n",
              "1319                   0.493604  0.421185  0.332172  0.243518  0.173694   \n",
              "1019                   0.604461  0.499242  0.436081  0.416441  0.436707   \n",
              "616                    0.133319  0.124423  0.120911  0.120607  0.121054   \n",
              "827                    0.039861  0.034992  0.034928  0.039822  0.049346   \n",
              "516                    0.810526  0.883664  0.999919  1.157562  1.350274   \n",
              "1316                   0.176256  0.114104  0.072643  0.055134  0.065185   \n",
              "1035                   0.611150  0.331178  0.160732  0.069567  0.026759   \n",
              "933                    1.906901  1.655533  1.313191  0.940642  0.603708   \n",
              "1021                   1.903358  1.712468  1.510927  1.298384  1.082715   \n",
              "603                    3.311559  3.256049  3.170129  3.040927  2.864257   \n",
              "526                    1.212462  1.301970  1.418017  1.533705  1.609600   \n",
              "613                    2.379292  2.729010  3.061865  3.336170  3.505913   \n",
              "123                    0.512527  0.278198  0.136515  0.064025  0.039088   \n",
              "527                    2.164018  2.304082  2.391677  2.392951  2.279404   \n",
              "935                    2.421449  2.265465  2.031240  1.689925  1.279685   \n",
              "102                    0.893344  0.990106  1.155751  1.332121  1.450654   \n",
              "614                    4.625685  3.801387  3.078109  2.462028  1.944770   \n",
              "829                    2.300858  2.313216  2.303247  2.292049  2.292031   \n",
              "1028                   0.299473  0.197015  0.178268  0.252092  0.425224   \n",
              "518                    4.946100  4.811499  4.440560  3.870935  3.203380   \n",
              "808                    0.607026  0.328944  0.159648  0.069097  0.026578   \n",
              "510                    1.028661  0.557425  0.270537  0.117092  0.045039   \n",
              "826                    2.512606  1.592177  0.918682  0.479188  0.224580   \n",
              "129                    1.513512  1.109670  0.759897  0.479904  0.276398   \n",
              "1039                   0.095634  0.101145  0.152066  0.259212  0.426163   \n",
              "1118                   1.305778  0.707593  0.343419  0.148636  0.057173   \n",
              "\n",
              "Location on Track (m)    ...         1.222     1.240     1.259     1.278  \\\n",
              "Cell ID                  ...                                               \n",
              "609                      ...      0.987434  0.987123  0.982109  0.972064   \n",
              "529                      ...      0.765733  1.225203  1.807574  2.479657   \n",
              "1209                     ...      0.979394  1.000852  1.028671  1.059151   \n",
              "416                      ...      0.624437  0.618211  0.606493  0.594242   \n",
              "828                      ...      1.306936  1.329438  1.345330  1.350639   \n",
              "119                      ...      1.044528  1.067101  1.088206  1.106222   \n",
              "410                      ...      0.947985  1.008113  1.079908  1.154986   \n",
              "537                      ...      1.052964  1.059147  1.062734  1.064059   \n",
              "615                      ...      0.077713  0.083064  0.090516  0.101115   \n",
              "819                      ...      0.303586  0.276055  0.250062  0.224954   \n",
              "305                      ...      0.903239  0.952241  0.990599  1.017914   \n",
              "930                      ...      1.078905  1.113839  1.152968  1.192182   \n",
              "103                      ...      1.087954  1.082082  1.069751  1.049484   \n",
              "1303                     ...      1.112028  1.130514  1.145986  1.157003   \n",
              "532                      ...      0.008656  0.016956  0.033021  0.059264   \n",
              "121                      ...      0.533294  0.596871  0.696091  0.824164   \n",
              "403                      ...      0.940406  0.936768  0.953494  0.980658   \n",
              "927                      ...      0.090214  0.086893  0.089243  0.097209   \n",
              "417                      ...      0.653853  0.642782  0.623210  0.591113   \n",
              "920                      ...      0.988881  0.979325  0.974510  0.971640   \n",
              "422                      ...      1.168097  1.507895  1.838060  2.120881   \n",
              "1305                     ...      1.029510  1.088761  1.156077  1.224223   \n",
              "822                      ...      1.084324  1.086062  1.085023  1.079737   \n",
              "1306                     ...      0.421586  0.434466  0.450094  0.464791   \n",
              "931                      ...      2.301105  2.219869  2.113293  1.990647   \n",
              "818                      ...      0.921649  0.924170  0.929905  0.937778   \n",
              "928                      ...      0.579661  0.579622  0.578904  0.582901   \n",
              "411                      ...      1.117583  1.143947  1.175156  1.208724   \n",
              "1314                     ...      1.016185  1.023745  1.019015  1.002173   \n",
              "1022                     ...      1.435200  1.434302  1.455461  1.491288   \n",
              "...                      ...           ...       ...       ...       ...   \n",
              "420                      ...      0.661616  0.728539  0.789757  0.834143   \n",
              "1113                     ...      0.132361  0.148893  0.232762  0.394042   \n",
              "803                      ...      0.606173  0.501331  0.480648  0.529487   \n",
              "913                      ...      1.053770  1.022858  1.003582  1.004045   \n",
              "1319                     ...      1.654250  1.578384  1.521955  1.511134   \n",
              "1019                     ...      0.981177  0.987483  1.047018  1.149782   \n",
              "616                      ...      3.518814  3.902288  4.213457  4.443922   \n",
              "827                      ...      3.157698  3.109280  3.035284  2.954984   \n",
              "516                      ...      0.274093  0.236545  0.254392  0.331157   \n",
              "1316                     ...      0.411178  0.298355  0.210265  0.161828   \n",
              "1035                     ...      0.658884  1.130441  1.768339  2.538632   \n",
              "933                      ...      1.053857  1.202682  1.345773  1.492946   \n",
              "1021                     ...      1.485540  1.525734  1.527528  1.490843   \n",
              "603                      ...      0.051589  0.065111  0.081891  0.103200   \n",
              "526                      ...      0.539803  0.551396  0.648258  0.838098   \n",
              "613                      ...      0.009087  0.024219  0.057890  0.123881   \n",
              "123                      ...      0.031304  0.083437  0.199435  0.426775   \n",
              "527                      ...      0.525793  0.671174  0.803141  0.905508   \n",
              "935                      ...      0.042746  0.113933  0.272330  0.582765   \n",
              "102                      ...      1.493249  1.262822  1.052558  0.887767   \n",
              "614                      ...      0.132736  0.087027  0.057063  0.045280   \n",
              "829                      ...      0.012413  0.033085  0.079081  0.169228   \n",
              "1028                     ...      0.093193  0.079276  0.123147  0.240284   \n",
              "518                      ...      0.173266  0.180249  0.189413  0.205560   \n",
              "808                      ...      0.064580  0.108450  0.239222  0.506307   \n",
              "510                      ...      2.129201  2.080110  1.899681  1.720220   \n",
              "826                      ...      0.057891  0.154299  0.368815  0.789236   \n",
              "129                      ...      0.039265  0.104655  0.250153  0.535307   \n",
              "1039                     ...      0.339450  0.688756  1.275918  2.163316   \n",
              "1118                     ...      0.079754  0.212574  0.508106  1.087306   \n",
              "\n",
              "Location on Track (m)     1.297     1.315     1.334     1.353     1.372  \\\n",
              "Cell ID                                                                   \n",
              "609                    0.957569  0.939958  0.921272  0.904025  0.890763   \n",
              "529                    3.194080  3.904763  4.570941  5.149268  5.585816   \n",
              "1209                   1.087730  1.110484  1.125553  1.133495  1.136533   \n",
              "416                    0.587641  0.591744  0.607652  0.631278  0.654660   \n",
              "828                    1.344944  1.331163  1.313929  1.297659  1.285455   \n",
              "119                    1.120344  1.130723  1.138232  1.143789  1.147763   \n",
              "410                    1.222090  1.271604  1.299951  1.310483  1.310778   \n",
              "537                    1.063848  1.062796  1.061444  1.060148  1.059155   \n",
              "615                    0.115561  0.133458  0.153036  0.171537  0.185966   \n",
              "819                    0.200515  0.177521  0.157454  0.141775  0.131281   \n",
              "305                    1.034273  1.040063  1.036477  1.026496  1.014968   \n",
              "930                    1.226364  1.251129  1.264839  1.269217  1.268309   \n",
              "103                    1.020978  0.986005  0.948510  0.913726  0.886943   \n",
              "1303                   1.161640  1.157982  1.145856  1.128233  1.110886   \n",
              "532                    0.096951  0.144807  0.198269  0.249984  0.291259   \n",
              "121                    0.964305  1.095197  1.199531  1.269972  1.309423   \n",
              "403                    1.014254  1.057360  1.114051  1.180924  1.243727   \n",
              "927                    0.108342  0.119054  0.126561  0.130086  0.130758   \n",
              "417                    0.545230  0.489038  0.430039  0.377117  0.337831   \n",
              "920                    0.967572  0.960288  0.949750  0.937820  0.927389   \n",
              "422                    2.366193  2.624301  2.943456  3.319007  3.674225   \n",
              "1305                   1.285836  1.336290  1.374883  1.403222  1.422556   \n",
              "822                    1.070199  1.057752  1.044512  1.032635  1.023799   \n",
              "1306                   0.475326  0.479946  0.478823  0.473763  0.467685   \n",
              "931                    1.862853  1.740949  1.634365  1.549963  1.491930   \n",
              "818                    0.946499  0.954922  0.962213  0.967902  0.971762   \n",
              "928                    0.594815  0.614410  0.638452  0.662214  0.681023   \n",
              "411                    1.240098  1.264586  1.279731  1.286300  1.287453   \n",
              "1314                   0.977166  0.949599  0.924450  0.904853  0.891974   \n",
              "1022                   1.534769  1.582462  1.633223  1.683738  1.726278   \n",
              "...                         ...       ...       ...       ...       ...   \n",
              "420                    0.854529  0.849417  0.823169  0.785472  0.749280   \n",
              "1113                   0.636075  0.947213  1.296103  1.633907  1.903680   \n",
              "803                    0.633304  0.782203  0.965405  1.161087  1.331299   \n",
              "913                    1.028416  1.074117  1.131990  1.189594  1.235139   \n",
              "1319                   1.570760  1.712539  1.924692  2.168256  2.384094   \n",
              "1019                   1.276418  1.406213  1.523075  1.617041  1.682553   \n",
              "616                    4.601845  4.708331  4.786577  4.850736  4.901552   \n",
              "827                    2.886055  2.839399  2.816683  2.811991  2.815982   \n",
              "516                    0.458955  0.620116  0.790966  0.946502  1.064395   \n",
              "1316                   0.160925  0.206396  0.287866  0.385733  0.473800   \n",
              "1035                   3.379041  4.222070  5.011989  5.698378  6.219662   \n",
              "933                    1.668494  1.888027  2.144327  2.403471  2.617178   \n",
              "1021                   1.419867  1.323364  1.214685  1.110403  1.028000   \n",
              "603                    0.130793  0.165507  0.205668  0.246366  0.280195   \n",
              "526                    1.106484  1.418619  1.729745  1.997814  2.191691   \n",
              "613                    0.237111  0.406090  0.623237  0.858542  1.062696   \n",
              "123                    0.816860  1.399001  2.147081  2.957721  3.661040   \n",
              "527                    0.969186  0.996459  0.999466  0.992908  0.986811   \n",
              "935                    1.115429  1.910348  2.931856  4.038792  4.999181   \n",
              "102                    0.781250  0.737725  0.753722  0.812799  0.884279   \n",
              "614                    0.051545  0.073861  0.108037  0.147060  0.181493   \n",
              "829                    0.323907  0.554741  0.851375  1.172815  1.451700   \n",
              "1028                   0.452647  0.773204  1.186051  1.633850  2.022366   \n",
              "518                    0.230328  0.262116  0.297348  0.331383  0.358853   \n",
              "808                    0.967472  1.656949  2.542958  3.503064  4.336061   \n",
              "510                    1.695777  1.933962  2.441178  3.107466  3.736537   \n",
              "826                    1.510620  2.587175  3.970599  5.469716  6.770366   \n",
              "129                    1.024593  1.754777  2.693098  3.709890  4.592069   \n",
              "1039                   3.366668  4.828040  6.408676  7.904860  9.083601   \n",
              "1118                   2.081135  3.564272  5.470173  7.535461  9.327327   \n",
              "\n",
              "Location on Track (m)      1.390  \n",
              "Cell ID                           \n",
              "609                     0.883556  \n",
              "529                     5.823406  \n",
              "1209                    1.137234  \n",
              "416                     0.669122  \n",
              "828                     1.279036  \n",
              "119                     1.149937  \n",
              "410                     1.308594  \n",
              "537                     1.058622  \n",
              "615                     0.193872  \n",
              "819                     0.126106  \n",
              "305                     1.007365  \n",
              "930                     1.266489  \n",
              "103                     0.872388  \n",
              "1303                    1.100140  \n",
              "532                     0.314247  \n",
              "121                     1.325968  \n",
              "403                     1.282370  \n",
              "927                     0.130430  \n",
              "417                     0.317072  \n",
              "920                     0.921302  \n",
              "422                     3.894334  \n",
              "1305                    1.432665  \n",
              "822                     1.019120  \n",
              "1306                    0.463643  \n",
              "931                     1.462445  \n",
              "818                     0.973709  \n",
              "928                     0.691365  \n",
              "411                     1.286863  \n",
              "1314                    0.885719  \n",
              "1022                    1.751064  \n",
              "...                          ...  \n",
              "420                     0.727212  \n",
              "1113                    2.053929  \n",
              "803                     1.431789  \n",
              "913                     1.260078  \n",
              "1319                    2.511576  \n",
              "1019                    1.716237  \n",
              "616                     4.930875  \n",
              "827                     2.820382  \n",
              "516                     1.127855  \n",
              "1316                    0.526125  \n",
              "1035                    6.505508  \n",
              "933                     2.738499  \n",
              "1021                    0.982432  \n",
              "603                     0.299547  \n",
              "526                     2.292768  \n",
              "613                     1.182342  \n",
              "123                     4.073228  \n",
              "527                     0.984121  \n",
              "935                     5.562026  \n",
              "102                     0.932204  \n",
              "614                     0.201784  \n",
              "829                     1.615143  \n",
              "1028                    2.250059  \n",
              "518                     0.374354  \n",
              "808                     4.824247  \n",
              "510                     4.119015  \n",
              "826                     7.532625  \n",
              "129                     5.109078  \n",
              "1039                    9.735829  \n",
              "1118                   10.377467  \n",
              "\n",
              "[136 rows x 64 columns]"
            ]
          },
          "metadata": {
            "tags": []
          },
          "execution_count": 25
        }
      ]
    },
    {
      "metadata": {
        "id": "dTBoLlGvDlar",
        "colab_type": "text"
      },
      "cell_type": "markdown",
      "source": [
        "#### In fact, sometimes the neurons encode where the rat is going, not where he is!  "
      ]
    },
    {
      "metadata": {
        "id": "VzUNOLNhDlas",
        "colab_type": "text"
      },
      "cell_type": "markdown",
      "source": [
        "## (5)\n",
        "#### How much information can spikes convey?  We can compute information by first measuring the uncertainty that we have about location, and then figuring out how much that uncertainty is reduced by decoding some information about location from the spikes.  "
      ]
    },
    {
      "metadata": {
        "id": "gz3KvnR1Dlaw",
        "colab_type": "text"
      },
      "cell_type": "markdown",
      "source": [
        "### (a)\n",
        "#### First, let's compute the probability distribution across locations.  Probability distributions must integrate to 1 (or sum to 1), and we achieve this by dividing the durations at each location by the total duration of the experiment.  "
      ]
    },
    {
      "metadata": {
        "id": "nOVESBZUDlax",
        "colab_type": "code",
        "outputId": "3d739cbf-8e95-4250-e358-11ca70f650c8",
        "colab": {
          "base_uri": "https://localhost:8080/",
          "height": 370
        }
      },
      "cell_type": "code",
      "source": [
        "total_duration = durations_at_each_location.sum()\n",
        "probabilty_at_each_location = durations_at_each_location / total_duration\n",
        "plt.plot(bin_centers, probabilty_at_each_location )\n",
        "plt.xlabel('Location on track (m)')\n",
        "plt.ylabel('Probability of being in location');"
      ],
      "execution_count": 26,
      "outputs": [
        {
          "output_type": "display_data",
          "data": {
            "image/png": "[encoded data removed]",
            "text/plain": [
              "<Figure size 576x396 with 1 Axes>"
            ]
          },
          "metadata": {
            "tags": []
          }
        }
      ]
    },
    {
      "metadata": {
        "id": "aIHJDNshDlaz",
        "colab_type": "text"
      },
      "cell_type": "markdown",
      "source": [
        "### (b)\n",
        "#### Next, we compute the entropy, which measures our uncertainty about location.  We divided up location into 64 bins, which is a really convenient choice for the following reason: If the rat is equally likely to be in each of the 64 location bins, then that is like flipping 6 fair coins -- there are $2^6$ possible states, and all are equally probable, therefore there are 6 bits of entropy.  "
      ]
    },
    {
      "metadata": {
        "id": "vqY436b9Dla1",
        "colab_type": "code",
        "outputId": "058a5755-1c25-49ee-a65e-ff0ad4ee049f",
        "colab": {
          "base_uri": "https://localhost:8080/",
          "height": 34
        }
      },
      "cell_type": "code",
      "source": [
        "# Create an array of 64 values, each containing 1/64th\n",
        "# This is a valid probability distribution, since it adds up to 1.  \n",
        "p = np.ones(64)/64 # Hint: both elipsis are the same number!\n",
        "\n",
        "# Compute the entropy of that distribution\n",
        "h = -np.sum(p* np.log2(p))\n",
        "\n",
        "# Report that entropy\n",
        "print(\"The entropy is %d bits\" % h)"
      ],
      "execution_count": 27,
      "outputs": [
        {
          "output_type": "stream",
          "text": [
            "The entropy is 6 bits\n"
          ],
          "name": "stdout"
        }
      ]
    },
    {
      "metadata": {
        "id": "XYe8QPz4Dla4",
        "colab_type": "text"
      },
      "cell_type": "markdown",
      "source": [
        "### (c)\n",
        "#### Now we do this for the actual probability distribution $p(x)$ in (a)"
      ]
    },
    {
      "metadata": {
        "id": "ODy0qqJJDla5",
        "colab_type": "code",
        "outputId": "ee1f6515-970d-4d7b-d2e3-499c11352c5b",
        "colab": {
          "base_uri": "https://localhost:8080/",
          "height": 34
        }
      },
      "cell_type": "code",
      "source": [
        "p_x = probabilty_at_each_location\n",
        "h = -np.sum(p_x* np.log2(p_x))\n",
        "print(\"The entropy (uncertainty) of the rat's location is %.3g bits\" % h)"
      ],
      "execution_count": 28,
      "outputs": [
        {
          "output_type": "stream",
          "text": [
            "The entropy (uncertainty) of the rat's location is 5.98 bits\n"
          ],
          "name": "stdout"
        }
      ]
    },
    {
      "metadata": {
        "id": "2wymG1lJDla9",
        "colab_type": "text"
      },
      "cell_type": "markdown",
      "source": [
        "### (d)\n",
        "#### Bayes's theorem says that the conditional probability distribution p(x|s), the probability of finding the rat at location `x` given that a spike has occurred, is given by $p(x | s) = p(s | x) * p(x) / p(s)$.  p(x) is what we just looked at in (c).  $p(s | x) / p(s)$ is the normalized spike rate for the cell in question.  Let's assume that the cell that spiked is cell 1106.  Compute $p(x | s)$, and then the new entropy given that the cell spiked. "
      ]
    },
    {
      "metadata": {
        "id": "ZbO4jtCADla-",
        "colab_type": "code",
        "outputId": "8934b6db-7b5f-42ba-84ec-a68eebac6719",
        "colab": {
          "base_uri": "https://localhost:8080/",
          "height": 34
        }
      },
      "cell_type": "code",
      "source": [
        "p_x_s = p_x * spike_rates_normalized.loc[1106]\n",
        "h_s = -np.sum(p_x_s* np.log2(p_x_s))\n",
        "print(\"The entropy (uncertainty) of the rat's location is now only %.3g bits\" % h_s)"
      ],
      "execution_count": 29,
      "outputs": [
        {
          "output_type": "stream",
          "text": [
            "The entropy (uncertainty) of the rat's location is now only 5.46 bits\n"
          ],
          "name": "stdout"
        }
      ]
    },
    {
      "metadata": {
        "id": "LndSIVjCDlbB",
        "colab_type": "text"
      },
      "cell_type": "markdown",
      "source": [
        "### (e)\n",
        "#### How much information was gained?  This is just the old entropy minus the new entropy, i.e. the reduction of entropy.  Information is just the reduction of uncertainty.  "
      ]
    },
    {
      "metadata": {
        "id": "x3XhBTFFDlbB",
        "colab_type": "code",
        "outputId": "abc98719-47c8-4dca-f70e-d79dffb32002",
        "colab": {
          "base_uri": "https://localhost:8080/",
          "height": 34
        }
      },
      "cell_type": "code",
      "source": [
        "print(\"The information provided by the spike about the rat's location is %.3g bits\" % (0.54))"
      ],
      "execution_count": 30,
      "outputs": [
        {
          "output_type": "stream",
          "text": [
            "The information provided by the spike about the rat's location is 0.54 bits\n"
          ],
          "name": "stdout"
        }
      ]
    },
    {
      "metadata": {
        "id": "8_X4hR1oDlbD",
        "colab_type": "text"
      },
      "cell_type": "markdown",
      "source": [
        "#### Our uncertainty about the rat's location used to be about the same as that present in the outcome of 6 consecutive coin flips.  Seeing just one spike reduces that by about half a coin flip!"
      ]
    }
  ]
}